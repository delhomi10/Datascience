{
  "nbformat": 4,
  "nbformat_minor": 2,
  "metadata": {
    "colab": {
      "name": "LinearRegression_Assignment.ipynb",
      "provenance": [],
      "collapsed_sections": [
        "O41Ws83Sxcx2"
      ]
    },
    "kernelspec": {
      "name": "python3",
      "display_name": "Python 3.8.7 64-bit"
    },
    "language_info": {
      "name": "python",
      "version": "3.8.7"
    },
    "interpreter": {
      "hash": "0c2eec47030d67897afc416aae11ed4e4f23b8eb203d9c28b3786033ab7c00f8"
    }
  },
  "cells": [
    {
      "cell_type": "code",
      "execution_count": null,
      "source": [
        "import pandas as pd\r\n",
        "import numpy as np"
      ],
      "outputs": [],
      "metadata": {
        "id": "jGqkg7yJn0Ke"
      }
    },
    {
      "cell_type": "markdown",
      "source": [],
      "metadata": {
        "id": "_KCfQ60gr7l2"
      }
    },
    {
      "cell_type": "code",
      "execution_count": null,
      "source": [
        "df = pd.read(\"C:\\Users\\delho\\Desktop\\UTD-Fall2021\\CS-4372-Computational Methods for Data Scientists\\Assignments\\data\\MELBOURNE_HOUSE_PRICES_LESS.csv\\MELBOURNE_HOUSE_PRICES_LESS.csv\")"
      ],
      "outputs": [],
      "metadata": {
        "id": "QWDrKMLSpubd",
        "colab": {
          "base_uri": "https://localhost:8080/",
          "height": 306
        },
        "outputId": "085b9692-f186-4762-ddea-19ffca287ae7"
      }
    },
    {
      "cell_type": "markdown",
      "source": [
        "# Basic Data Frame exploration\n"
      ],
      "metadata": {
        "id": "F3dO7Xi6r98i"
      }
    },
    {
      "cell_type": "code",
      "execution_count": null,
      "source": [
        "df.head()"
      ],
      "outputs": [],
      "metadata": {
        "colab": {
          "base_uri": "https://localhost:8080/",
          "height": 326
        },
        "id": "0M0QiZ9MpybW",
        "outputId": "5f3b635f-6215-47fc-a240-0ab031dc35b8"
      }
    },
    {
      "cell_type": "code",
      "execution_count": null,
      "source": [
        "df"
      ],
      "outputs": [],
      "metadata": {
        "colab": {
          "base_uri": "https://localhost:8080/",
          "height": 643
        },
        "id": "U_qJhUaCcse-",
        "outputId": "a9b29404-ba43-448e-f3e6-c791d332ea48"
      }
    },
    {
      "cell_type": "code",
      "execution_count": null,
      "source": [
        "df.describe()"
      ],
      "outputs": [],
      "metadata": {
        "colab": {
          "base_uri": "https://localhost:8080/",
          "height": 297
        },
        "id": "uot_2Fp1qSyr",
        "outputId": "41406879-6375-46dc-f8cc-0fc36eae6830"
      }
    },
    {
      "cell_type": "code",
      "execution_count": null,
      "source": [
        "df.info()\r\n"
      ],
      "outputs": [],
      "metadata": {
        "colab": {
          "base_uri": "https://localhost:8080/"
        },
        "id": "pRO0c00GqS1-",
        "outputId": "82ce9871-caac-4b04-a867-ccb6b1b60ff4"
      }
    },
    {
      "cell_type": "code",
      "execution_count": null,
      "source": [
        "df.columns"
      ],
      "outputs": [],
      "metadata": {
        "colab": {
          "base_uri": "https://localhost:8080/"
        },
        "id": "Q0-qi9cTPG9F",
        "outputId": "9e972587-2888-40a4-9637-819c8e2c2713"
      }
    },
    {
      "cell_type": "code",
      "execution_count": null,
      "source": [
        "df.dtypes"
      ],
      "outputs": [],
      "metadata": {
        "colab": {
          "base_uri": "https://localhost:8080/"
        },
        "id": "tMbNQJVljJaD",
        "outputId": "77ecf069-d4f4-414e-f0d9-1e752c5de9d4"
      }
    },
    {
      "cell_type": "markdown",
      "source": [
        "#Getting value counts of the columns to explore distributions\n",
        "\n"
      ],
      "metadata": {
        "id": "hywEjFOZPPKZ"
      }
    },
    {
      "cell_type": "code",
      "execution_count": null,
      "source": [
        "df['Rooms'].value_counts()"
      ],
      "outputs": [],
      "metadata": {
        "colab": {
          "base_uri": "https://localhost:8080/"
        },
        "id": "nnHaFOToPKPZ",
        "outputId": "232218f6-1c84-46e5-a9a4-af73a371bb32"
      }
    },
    {
      "cell_type": "markdown",
      "source": [
        "Here we see that there are a "
      ],
      "metadata": {
        "id": "-FNLgIb6Pikr"
      }
    },
    {
      "cell_type": "code",
      "execution_count": null,
      "source": [
        "df['Regionname'].value_counts()"
      ],
      "outputs": [],
      "metadata": {
        "colab": {
          "base_uri": "https://localhost:8080/"
        },
        "id": "_g9xzek-PYla",
        "outputId": "26d8f44c-6b2f-4881-ffef-d78b34b82c37"
      }
    },
    {
      "cell_type": "code",
      "execution_count": null,
      "source": [
        "df['Type'].value_counts()"
      ],
      "outputs": [],
      "metadata": {
        "colab": {
          "base_uri": "https://localhost:8080/"
        },
        "id": "8wx8xvdMPz2v",
        "outputId": "af1c53a1-b4a7-461e-e033-ced43ef8f3a1"
      }
    },
    {
      "cell_type": "code",
      "execution_count": null,
      "source": [
        "df['CouncilArea'].value_counts()"
      ],
      "outputs": [],
      "metadata": {
        "colab": {
          "base_uri": "https://localhost:8080/"
        },
        "id": "l6MCdyIRPz-N",
        "outputId": "d0dd1222-4adc-4b8c-8a1a-77ecdb681e22"
      }
    },
    {
      "cell_type": "code",
      "execution_count": null,
      "source": [
        "df['Method'].value_counts()"
      ],
      "outputs": [],
      "metadata": {
        "colab": {
          "base_uri": "https://localhost:8080/"
        },
        "id": "njaCC1mLP0Bg",
        "outputId": "64905ca1-d32f-4ed8-860c-ca02bc9c2ae9"
      }
    },
    {
      "cell_type": "markdown",
      "source": [
        "# Plotting distributions of all the catefories\n",
        "*Numerical variables with histograms,\n",
        "Categorical variables with count plots,\n",
        "Relationships between numerical variables with scatter plots, joint plots, and pair plots, and\n",
        "Relationships between numerical and categorical variables with box-and-whisker plots and complex conditional plots.*"
      ],
      "metadata": {
        "id": "O41Ws83Sxcx2"
      }
    },
    {
      "cell_type": "markdown",
      "source": [
        "Plotting distributions on numerical columns"
      ],
      "metadata": {
        "id": "51Tt8Q2VTkv0"
      }
    },
    {
      "cell_type": "code",
      "execution_count": null,
      "source": [
        "#Rooms, Price, PropertyCount, Distance\r\n",
        "int_columns = df.select_dtypes(\"int64\").columns\r\n",
        "float_columns = df.select_dtypes(\"float64\").columns\r\n",
        "number_columns = int_columns.append(float_columns)\r\n",
        "number_columns"
      ],
      "outputs": [],
      "metadata": {
        "id": "72AXkv800rr_",
        "colab": {
          "base_uri": "https://localhost:8080/"
        },
        "outputId": "f9748412-c2d2-4066-a85c-7a136f90ade1"
      }
    },
    {
      "cell_type": "code",
      "execution_count": null,
      "source": [
        "#removing postcode\r\n",
        "number_columns.remove('Postcode')"
      ],
      "outputs": [],
      "metadata": {
        "id": "Yqqp4ntbjUY2"
      }
    },
    {
      "cell_type": "markdown",
      "source": [
        "Checking for correlations of the categorical variables"
      ],
      "metadata": {
        "id": "2DJDiDwBir1s"
      }
    },
    {
      "cell_type": "code",
      "execution_count": null,
      "source": [],
      "outputs": [],
      "metadata": {
        "id": "OkTNYHxFjBiw"
      }
    },
    {
      "cell_type": "code",
      "execution_count": null,
      "source": [
        "#checking the correlation of the response variable\r\n",
        "from scipy.stats import shapiro\r\n",
        "resp = df['price']\r\n",
        "shapiro(resp[1])"
      ],
      "outputs": [],
      "metadata": {
        "id": "hLxnxUroh34z"
      }
    },
    {
      "cell_type": "code",
      "execution_count": null,
      "source": [
        "import matplotlib.pyplot as plt\r\n",
        "plt.style.use('ggplot')\r\n",
        "\r\n",
        "# histogram of the Number of rooms\r\n",
        "df['Rooms'].plot(kind='hist', color='purple', edgecolor='black', figsize=(10,7))\r\n",
        "plt.title('Distribution of Rooms', size=24)\r\n",
        "plt.xlabel('Number of rooms', size=18)\r\n",
        "plt.ylabel('Frequency', size=18)\r\n"
      ],
      "outputs": [],
      "metadata": {
        "id": "qpxjkryt0rw8",
        "colab": {
          "base_uri": "https://localhost:8080/",
          "height": 492
        },
        "outputId": "69bc1f83-1f25-45e7-b12c-0149a39d834f"
      }
    },
    {
      "cell_type": "markdown",
      "source": [
        "I noticed that the number of rooms distribution was not very normal. It is kinda right skewed "
      ],
      "metadata": {
        "id": "UTcvbRc1gqm5"
      }
    },
    {
      "cell_type": "code",
      "execution_count": null,
      "source": [
        "\r\n",
        "# histogram of the Number of Propertycount\r\n",
        "df['Propertycount'].plot(kind='hist', color='purple', edgecolor='black', figsize=(10,7))\r\n",
        "plt.title('Distribution of PropertyCount in the neighborhood', size=24)\r\n",
        "plt.xlabel('Number of Properties in the neighborhood', size=18)\r\n",
        "plt.ylabel('Count', size=18);\r\n",
        "\r\n",
        "\r\n",
        "# # histogram of the Number of Postcode\r\n",
        "# df_no_dups.Bathroom.plot(kind='hist', color='purple', edgecolor='black', figsize=(10,7))\r\n",
        "# plt.title('Distribution of Number of Bathrooms', size=24)\r\n",
        "# plt.xlabel('Number of Bathrooms', size=18)\r\n",
        "# plt.ylabel('Count', size=18)\r\n",
        "\r\n"
      ],
      "outputs": [],
      "metadata": {
        "id": "EMD__eAV0r0T",
        "colab": {
          "base_uri": "https://localhost:8080/",
          "height": 475
        },
        "outputId": "fbcdec24-e433-4669-deca-5ec26d4078df"
      }
    },
    {
      "cell_type": "code",
      "execution_count": null,
      "source": [
        "# histogram of the Distance to CBD\r\n",
        "df['Distance'].plot(kind='hist', color='purple', edgecolor='black', figsize=(10,7))\r\n",
        "plt.title('Distribution of Distance of property to CBD', size=24)\r\n",
        "plt.xlabel('Distance to CBD', size=18)\r\n",
        "plt.ylabel('Count', size=18);"
      ],
      "outputs": [],
      "metadata": {
        "id": "yMyu7ymA0r26",
        "colab": {
          "base_uri": "https://localhost:8080/",
          "height": 475
        },
        "outputId": "53a7a122-4168-4085-cb64-daa82ef3de85"
      }
    },
    {
      "cell_type": "code",
      "execution_count": null,
      "source": [
        "# histogram of the Distance to CBD\r\n",
        "df['Price'].plot(kind='hist', color='purple', edgecolor='black', figsize=(10,7))\r\n",
        "plt.title('Distribution of Price', size=24)\r\n",
        "plt.xlabel('Distance to CBD', size=18)\r\n",
        "plt.ylabel('Count', size=18);"
      ],
      "outputs": [],
      "metadata": {
        "colab": {
          "base_uri": "https://localhost:8080/",
          "height": 475
        },
        "id": "cx4pqIvkhT8z",
        "outputId": "0fa4c35c-668c-4818-da24-2656730b33d5"
      }
    },
    {
      "cell_type": "code",
      "execution_count": null,
      "source": [
        "import seaborn as sns\r\n",
        "\r\n",
        "sns.pairplot(df)"
      ],
      "outputs": [],
      "metadata": {
        "id": "ndIOjbce0r7T",
        "colab": {
          "base_uri": "https://localhost:8080/",
          "height": 920
        },
        "outputId": "4f246297-15e8-4882-c0a9-c6cf0e7e7b66"
      }
    },
    {
      "cell_type": "markdown",
      "source": [
        "We should ignore postcode on this because it should be treated as a categorical variable."
      ],
      "metadata": {
        "id": "L6m7xTWPleuD"
      }
    },
    {
      "cell_type": "code",
      "execution_count": null,
      "source": [
        "print(df['Suburb'].value_counts())"
      ],
      "outputs": [],
      "metadata": {
        "id": "RQ3k_Ny90r9-",
        "colab": {
          "base_uri": "https://localhost:8080/"
        },
        "outputId": "2b7aecd8-80fd-4cd4-a0dc-0e868cd5e929"
      }
    },
    {
      "cell_type": "code",
      "execution_count": null,
      "source": [
        "print(df['Method'].value_counts())"
      ],
      "outputs": [],
      "metadata": {
        "id": "2H5xAUQw0sCN",
        "colab": {
          "base_uri": "https://localhost:8080/"
        },
        "outputId": "245833d3-f62c-4fc1-848c-eb47b5008cef"
      }
    },
    {
      "cell_type": "code",
      "execution_count": null,
      "source": [
        "print(df['Type'].value_counts())"
      ],
      "outputs": [],
      "metadata": {
        "id": "-Xy9mPrO0sEy",
        "colab": {
          "base_uri": "https://localhost:8080/"
        },
        "outputId": "65bb700c-4407-4377-b078-b52b6baf67d6"
      }
    },
    {
      "cell_type": "code",
      "execution_count": null,
      "source": [
        "print(df['Regionname'].value_counts())"
      ],
      "outputs": [],
      "metadata": {
        "id": "64J96HXh0sHd",
        "colab": {
          "base_uri": "https://localhost:8080/"
        },
        "outputId": "541be203-b67a-4764-8dba-ec2579bd9f75"
      }
    },
    {
      "cell_type": "markdown",
      "source": [
        "#Plotting the numerical Categoris"
      ],
      "metadata": {
        "id": "ytpUgfXjg8uM"
      }
    },
    {
      "cell_type": "code",
      "execution_count": null,
      "source": [
        "import seaborn as sns"
      ],
      "outputs": [],
      "metadata": {
        "id": "tmaFDHqZhZ1A"
      }
    },
    {
      "cell_type": "code",
      "execution_count": null,
      "source": [
        "#plotting the standard dataframe\n",
        "sns.pairplot(df)"
      ],
      "outputs": [],
      "metadata": {
        "colab": {
          "base_uri": "https://localhost:8080/",
          "height": 920
        },
        "id": "CpilbGUOhLzL",
        "outputId": "b4422c32-4fa7-43d9-d9ae-e4dbc7830d9f"
      }
    },
    {
      "cell_type": "code",
      "execution_count": null,
      "source": [
        "sns.pairplot(df, hue = 'Type')"
      ],
      "outputs": [],
      "metadata": {
        "colab": {
          "base_uri": "https://localhost:8080/",
          "height": 920
        },
        "id": "5jOmYMPnhL_e",
        "outputId": "05df5e61-75d8-4e9e-8775-0168f2ada8f4"
      }
    },
    {
      "cell_type": "markdown",
      "source": [
        "I noticed that the type = u have a lot fewer rooms and they tend to be lower in price. This makes sense as units such as duplex and townhouses tend to have a  less rooms than houses"
      ],
      "metadata": {
        "id": "r1rnAeHLlpz_"
      }
    },
    {
      "cell_type": "markdown",
      "source": [
        "The Price count tends to be the highest when the property count is at most of the concentration is at its median as that graph is kinda normal distribution."
      ],
      "metadata": {
        "id": "ivqgxc3ymlrf"
      }
    },
    {
      "cell_type": "markdown",
      "source": [
        "I cant really see any correlations between property count and distance. The points are very randomized"
      ],
      "metadata": {
        "id": "dg4UqdS9nHWW"
      }
    },
    {
      "cell_type": "markdown",
      "source": [
        "One thing that surprised me is that when looking at number of rooms vs price, I did not expect the graph to look like a normal distribution. I thought it would be more skewed because properties with higher number of rooms would be the most expensive."
      ],
      "metadata": {
        "id": "ouqfo4AMnQU2"
      }
    },
    {
      "cell_type": "markdown",
      "source": [
        "Price vs distance had a very right skewed distribution. This makes sense as CBD area has a very high property value, so it makes sense that the prices are very expensive when they have a lower distance to CBD."
      ],
      "metadata": {
        "id": "HB-kwI_Eo4-X"
      }
    },
    {
      "cell_type": "markdown",
      "source": [
        "As the distance increases I noticed the propertyCount in each suburb decreases. "
      ],
      "metadata": {
        "id": "uYLv51GypQ7P"
      }
    },
    {
      "cell_type": "markdown",
      "source": [
        "When propertyCount in a suburb is at its mid-range value it is at its highest price."
      ],
      "metadata": {
        "id": "2q6iNjGrp6hb"
      }
    },
    {
      "cell_type": "markdown",
      "source": [
        "#plotting the numerical features against price"
      ],
      "metadata": {
        "id": "eugxujebqT11"
      }
    },
    {
      "cell_type": "code",
      "execution_count": null,
      "source": [
        "#plotting distance against price\r\n",
        "sns.scatterplot(x = df['Distance'], y = df['Price'])\r\n"
      ],
      "outputs": [],
      "metadata": {
        "colab": {
          "base_uri": "https://localhost:8080/",
          "height": 310
        },
        "id": "T1fYsdcPhpuF",
        "outputId": "9fd55aa8-83c2-4913-a947-450c497560c6"
      }
    },
    {
      "cell_type": "markdown",
      "source": [
        "After creating a scatter plot of distance vs price, I can see that there is a negative correlation. As distance to CBD increases, the Price decreases"
      ],
      "metadata": {
        "id": "rYaFxi_3mBMy"
      }
    },
    {
      "cell_type": "code",
      "execution_count": null,
      "source": [
        "#plotting distance against price with a joint plot\r\n",
        "sns.jointplot(x = df['Distance'], y = df['Price'])"
      ],
      "outputs": [],
      "metadata": {
        "colab": {
          "base_uri": "https://localhost:8080/",
          "height": 458
        },
        "id": "Aaa6u0mEjteJ",
        "outputId": "eebbba71-6292-4556-942f-94020865d57b"
      }
    },
    {
      "cell_type": "code",
      "execution_count": null,
      "source": [
        "#plotting distance against price\r\n",
        "sns.scatterplot(x= df['Propertycount'], y= df['Price'])"
      ],
      "outputs": [],
      "metadata": {
        "colab": {
          "base_uri": "https://localhost:8080/",
          "height": 310
        },
        "id": "6PycOQpxhMFC",
        "outputId": "626f5279-8c46-4e7b-efdf-91d90a925648"
      }
    },
    {
      "cell_type": "markdown",
      "source": [
        "I see outliers that have very high property count. These outliers have a very low price."
      ],
      "metadata": {
        "id": "5b_8ZsEyqzF7"
      }
    },
    {
      "cell_type": "code",
      "execution_count": null,
      "source": [
        "#plotting distance against price\n",
        "sns.jointplot(x= df['Propertycount'], y= df['Price'])"
      ],
      "outputs": [],
      "metadata": {
        "colab": {
          "base_uri": "https://localhost:8080/",
          "height": 458
        },
        "id": "JioxT29qhMHt",
        "outputId": "802a79ad-2f7c-48ad-b9f4-cdc267bee8be"
      }
    },
    {
      "cell_type": "markdown",
      "source": [
        "#Getting rid of duplicates and plotting distributions after removing them\n"
      ],
      "metadata": {
        "id": "tUVtkhnULLs0"
      }
    },
    {
      "cell_type": "code",
      "execution_count": null,
      "source": [
        "#check for any duplicate values\n",
        "dup_values = df[df.duplicated()]\n",
        "dup_values"
      ],
      "outputs": [],
      "metadata": {
        "colab": {
          "base_uri": "https://localhost:8080/",
          "height": 165
        },
        "id": "iEEzbaJvLRYu",
        "outputId": "7b959233-9ee9-4d05-d8ef-9d30c22ac063"
      }
    },
    {
      "cell_type": "code",
      "execution_count": null,
      "source": [
        "#Removing the duplicate values that we found\n",
        "df_no_dups = df[~df.duplicated()]"
      ],
      "outputs": [],
      "metadata": {
        "id": "cOdyQ1HJLRdL"
      }
    },
    {
      "cell_type": "code",
      "execution_count": null,
      "source": [
        "#checking the shape of the dataframe with no duplicates\r\n",
        "df_no_dups.shape[0]"
      ],
      "outputs": [],
      "metadata": {
        "colab": {
          "base_uri": "https://localhost:8080/"
        },
        "id": "bSLV9fUML1xZ",
        "outputId": "c74e8806-75d4-4c76-ebef-7a2918484e30"
      }
    },
    {
      "cell_type": "code",
      "execution_count": null,
      "source": [
        "#chaeckinf the shape of the original dataframe\n",
        "df.shape[0]"
      ],
      "outputs": [],
      "metadata": {
        "colab": {
          "base_uri": "https://localhost:8080/"
        },
        "id": "He6IgdigL6K7",
        "outputId": "40d0ace0-0a42-45c6-a117-316196e762df"
      }
    },
    {
      "cell_type": "code",
      "execution_count": null,
      "source": [
        "#reassigning the cleaned dataframe back to the original dataframe\n",
        "\n",
        "df = df_no_dups"
      ],
      "outputs": [],
      "metadata": {
        "id": "fJlKHLshNwfY"
      }
    },
    {
      "cell_type": "markdown",
      "source": [
        "#Changing the data types of certain columns for better exploratory data analysis"
      ],
      "metadata": {
        "id": "FBWH-TleMPUR"
      }
    },
    {
      "cell_type": "code",
      "execution_count": null,
      "source": [
        "#we should change postcode to Categorical variables instead of numerical type\r\n",
        "df['Postcode'].unique()\r\n"
      ],
      "outputs": [],
      "metadata": {
        "colab": {
          "base_uri": "https://localhost:8080/"
        },
        "id": "2kQYOzzoLRiS",
        "outputId": "3a1e52b8-2923-43ea-a5f3-66b85b5edb12"
      }
    },
    {
      "cell_type": "code",
      "execution_count": null,
      "source": [
        "df['Postcode'] = df['Postcode'].astype(\"category\")"
      ],
      "outputs": [],
      "metadata": {
        "colab": {
          "base_uri": "https://localhost:8080/"
        },
        "id": "KwVWcEKJLRkc",
        "outputId": "287c364f-1c67-4acb-ff91-b8762fc1fb85"
      }
    },
    {
      "cell_type": "code",
      "execution_count": null,
      "source": [
        "df['Postcode'] "
      ],
      "outputs": [],
      "metadata": {
        "colab": {
          "base_uri": "https://localhost:8080/"
        },
        "id": "JswarAVeMask",
        "outputId": "1c80ad8b-1d4d-4fb1-f758-ad57edd86d76"
      }
    },
    {
      "cell_type": "code",
      "execution_count": null,
      "source": [
        "#we need to change the string categories to type object\n",
        "list_object_col = df.select_dtypes(\"object\").columns"
      ],
      "outputs": [],
      "metadata": {
        "id": "2PyKQ3y6MavC"
      }
    },
    {
      "cell_type": "code",
      "execution_count": null,
      "source": [
        "list_object_col"
      ],
      "outputs": [],
      "metadata": {
        "colab": {
          "base_uri": "https://localhost:8080/"
        },
        "id": "_wnFVVkAMayz",
        "outputId": "feba78c1-0370-4fe7-fbbb-d7222a7a1593"
      }
    },
    {
      "cell_type": "code",
      "execution_count": null,
      "source": [
        "#changing all the columns with type object as category\n",
        "df[[i for i in list_object_col]] = df[[i for i in list_object_col]].astype(\"category\")"
      ],
      "outputs": [],
      "metadata": {
        "colab": {
          "base_uri": "https://localhost:8080/"
        },
        "id": "fGqVlahWMa1B",
        "outputId": "9c0eab0b-7dda-4a5c-e1fc-f11ebca2a8a9"
      }
    },
    {
      "cell_type": "markdown",
      "source": [
        "#Handling Null Values\n"
      ],
      "metadata": {
        "id": "VPc8T7_SNH7f"
      }
    },
    {
      "cell_type": "code",
      "execution_count": null,
      "source": [
        "#total count of null values in the datafrmae\n",
        "df.isnull().sum()"
      ],
      "outputs": [],
      "metadata": {
        "colab": {
          "base_uri": "https://localhost:8080/"
        },
        "id": "lzwExaS2NNTt",
        "outputId": "e69c7e1e-1be0-4d1b-9f9e-fe66ccb0d69b"
      }
    },
    {
      "cell_type": "code",
      "execution_count": null,
      "source": [
        "columns = df.columns\n",
        "columns"
      ],
      "outputs": [],
      "metadata": {
        "colab": {
          "base_uri": "https://localhost:8080/"
        },
        "id": "nIotCvAPNNWU",
        "outputId": "36d87746-122c-4ec9-b360-9601bf74f88c"
      }
    },
    {
      "cell_type": "code",
      "execution_count": null,
      "source": [
        "# number of null values in each of the  columns  of the data frame\n",
        "for i in columns:\n",
        "    count =0\n",
        "    k = df[i].isnull()\n",
        "    for m in k:\n",
        "        if m == True :\n",
        "            count = count +1\n",
        "    print(i ,\" = \",count)"
      ],
      "outputs": [],
      "metadata": {
        "colab": {
          "base_uri": "https://localhost:8080/"
        },
        "id": "qjrkAshMNNZT",
        "outputId": "859a0287-54b7-41d8-c55f-15b174a3502e"
      }
    },
    {
      "cell_type": "markdown",
      "source": [
        "We use the describe function on the variables that we need to decide what to do with null values"
      ],
      "metadata": {
        "id": "T0FwaermqCvM"
      }
    },
    {
      "cell_type": "code",
      "execution_count": null,
      "source": [
        "df['Rooms'].describe()"
      ],
      "outputs": [],
      "metadata": {
        "colab": {
          "base_uri": "https://localhost:8080/"
        },
        "id": "YvtnIeeCqIqo",
        "outputId": "cfd8ee64-12cc-4e2a-9b76-41c2aad656d2"
      }
    },
    {
      "cell_type": "code",
      "execution_count": null,
      "source": [
        "\n",
        "df['Type'].value_counts"
      ],
      "outputs": [],
      "metadata": {
        "colab": {
          "base_uri": "https://localhost:8080/"
        },
        "id": "-HPycC4UqItP",
        "outputId": "31ef26a4-4bc9-421d-88d3-bd722ddd0966"
      }
    },
    {
      "cell_type": "code",
      "execution_count": null,
      "source": [
        "df['Method'].describe()"
      ],
      "outputs": [],
      "metadata": {
        "colab": {
          "base_uri": "https://localhost:8080/"
        },
        "id": "U7FrCAf_qIwl",
        "outputId": "67557486-ad74-44ee-9cce-36ca642dbd5c"
      }
    },
    {
      "cell_type": "code",
      "execution_count": null,
      "source": [
        "df['Date'].describe()"
      ],
      "outputs": [],
      "metadata": {
        "colab": {
          "base_uri": "https://localhost:8080/"
        },
        "id": "yP3beZc-qIys",
        "outputId": "66582c35-7931-4d79-8c21-1aad139481c4"
      }
    },
    {
      "cell_type": "code",
      "execution_count": null,
      "source": [
        "df['Propertycount'].describe()"
      ],
      "outputs": [],
      "metadata": {
        "colab": {
          "base_uri": "https://localhost:8080/"
        },
        "id": "OmOck43bq08z",
        "outputId": "0c69e8aa-8edb-4ff5-cec7-47397c14fe9e"
      }
    },
    {
      "cell_type": "code",
      "execution_count": null,
      "source": [
        "df['Distance'].describe()"
      ],
      "outputs": [],
      "metadata": {
        "colab": {
          "base_uri": "https://localhost:8080/"
        },
        "id": "lf_ny8mZq0_w",
        "outputId": "81587056-b744-4c5c-a079-15dfc453442d"
      }
    },
    {
      "cell_type": "code",
      "execution_count": null,
      "source": [
        "df['CouncilArea'].describe()"
      ],
      "outputs": [],
      "metadata": {
        "colab": {
          "base_uri": "https://localhost:8080/"
        },
        "id": "7SltLPAYrK7r",
        "outputId": "95853f8f-c239-41b2-bcd1-ba532a3fb5e2"
      }
    },
    {
      "cell_type": "code",
      "execution_count": null,
      "source": [
        "df['Price'].describe()"
      ],
      "outputs": [],
      "metadata": {
        "colab": {
          "base_uri": "https://localhost:8080/"
        },
        "id": "7f00QbkzICXJ",
        "outputId": "e08f39bd-fe7a-4f76-a94a-cfd74273b40e"
      }
    },
    {
      "cell_type": "markdown",
      "source": [
        "Handlind null values for rooms"
      ],
      "metadata": {
        "id": "VQKJNIIFs_9U"
      }
    },
    {
      "cell_type": "code",
      "execution_count": null,
      "source": [
        "#df['Rooms'].isnull().sum()"
      ],
      "outputs": [],
      "metadata": {
        "colab": {
          "base_uri": "https://localhost:8080/"
        },
        "id": "HeZ0trSurT9a",
        "outputId": "a929bc08-f62b-4caa-b7cf-05f021393c0f"
      }
    },
    {
      "cell_type": "code",
      "execution_count": null,
      "source": [
        "#filling the number of rooms with mode bc mean would not give us integer number\n",
        "#df['Rooms'].fillna(3.0)"
      ],
      "outputs": [],
      "metadata": {
        "colab": {
          "base_uri": "https://localhost:8080/"
        },
        "id": "a5o3uZwSr0Jy",
        "outputId": "64fe34ce-fa6f-4565-c0d5-1ce098b39da1"
      }
    },
    {
      "cell_type": "code",
      "execution_count": null,
      "source": [
        "#df['Rooms'].isnull().sum()"
      ],
      "outputs": [],
      "metadata": {
        "colab": {
          "base_uri": "https://localhost:8080/"
        },
        "id": "vm8vJcYVsYPz",
        "outputId": "7f23f5e7-32f8-4c59-8f67-94faaec6bb3c"
      }
    },
    {
      "cell_type": "markdown",
      "source": [
        "Handling null value for Type category"
      ],
      "metadata": {
        "id": "GdYq3m1itCxD"
      }
    },
    {
      "cell_type": "code",
      "execution_count": null,
      "source": [
        "#df['Type'].isnull()"
      ],
      "outputs": [],
      "metadata": {
        "colab": {
          "base_uri": "https://localhost:8080/"
        },
        "id": "iIYV5LrCrUAV",
        "outputId": "4f2af455-f5d9-4df7-c841-3d2ed5973a12"
      }
    },
    {
      "cell_type": "code",
      "execution_count": null,
      "source": [
        "#df.drop(index = 9104)"
      ],
      "outputs": [],
      "metadata": {
        "colab": {
          "base_uri": "https://localhost:8080/",
          "height": 643
        },
        "id": "YeXk1vtNrUEI",
        "outputId": "f19c5452-a55a-43f2-f16d-acd629619292"
      }
    },
    {
      "cell_type": "markdown",
      "source": [
        "Handling SellerG column"
      ],
      "metadata": {
        "id": "fGC_tX5ntlRl"
      }
    },
    {
      "cell_type": "code",
      "execution_count": null,
      "source": [
        "#we are just going to drop that row because it is a name"
      ],
      "outputs": [],
      "metadata": {
        "id": "w1lmILLZrUGN"
      }
    },
    {
      "cell_type": "code",
      "execution_count": null,
      "source": [],
      "outputs": [],
      "metadata": {
        "id": "c2Yhdh5BrUIQ"
      }
    },
    {
      "cell_type": "markdown",
      "source": [
        "Handling property Count missing value"
      ],
      "metadata": {
        "id": "HwrA8vrItwGS"
      }
    },
    {
      "cell_type": "code",
      "execution_count": null,
      "source": [
        "#replace property count with median property count in that suburb"
      ],
      "outputs": [],
      "metadata": {
        "id": "VYqeChJUrUUr"
      }
    },
    {
      "cell_type": "code",
      "execution_count": null,
      "source": [],
      "outputs": [],
      "metadata": {
        "id": "-lsKho_7uHKY"
      }
    },
    {
      "cell_type": "code",
      "execution_count": null,
      "source": [],
      "outputs": [],
      "metadata": {
        "id": "sJAC_JS8vIgo"
      }
    },
    {
      "cell_type": "markdown",
      "source": [
        "Handling Distance column"
      ],
      "metadata": {
        "id": "dGhEW5JqvPZp"
      }
    },
    {
      "cell_type": "code",
      "execution_count": null,
      "source": [
        "#df['Distance'].isnull()"
      ],
      "outputs": [],
      "metadata": {
        "colab": {
          "base_uri": "https://localhost:8080/"
        },
        "id": "Na9-zehFvkn8",
        "outputId": "59b2988b-1150-4d5f-a873-3e168cbe0dca"
      }
    },
    {
      "cell_type": "code",
      "execution_count": null,
      "source": [
        "#replace with mean distance of that suburb\n",
        "#df['index' == 9104]"
      ],
      "outputs": [],
      "metadata": {
        "colab": {
          "base_uri": "https://localhost:8080/",
          "height": 562
        },
        "id": "57VnYrF6vdRg",
        "outputId": "cdd2c4e1-93c1-4c4b-f832-b30e2024446e"
      }
    },
    {
      "cell_type": "code",
      "execution_count": null,
      "source": [
        "#we "
      ],
      "outputs": [],
      "metadata": {
        "id": "W4lbFwGxvdUh"
      }
    },
    {
      "cell_type": "markdown",
      "source": [
        "Handling date column\n"
      ],
      "metadata": {
        "id": "lgyezA77vJUy"
      }
    },
    {
      "cell_type": "code",
      "execution_count": null,
      "source": [
        "# we can replace the date column by forward filling it\n",
        "#df[\"Ditance\"] = data[\"Dsitance\"].fillna(method='ffill')\n"
      ],
      "outputs": [],
      "metadata": {
        "id": "AjHoJNykxG0p"
      }
    },
    {
      "cell_type": "code",
      "execution_count": null,
      "source": [
        "#we will just delete this row because it is difficult to replace with the method we have avilable to us"
      ],
      "outputs": [],
      "metadata": {
        "id": "2PnujtiqvLMA"
      }
    },
    {
      "cell_type": "markdown",
      "source": [],
      "metadata": {
        "id": "zgY7_VgpuHbB"
      }
    },
    {
      "cell_type": "markdown",
      "source": [
        "We notice here that only the price column has null values. There are multiple ways that we can handle this. We can use the mean, median, mode. In my case I will be using the mode to fill in those null values in the price column."
      ],
      "metadata": {
        "id": "L7Y_sWS8OQjM"
      }
    },
    {
      "cell_type": "code",
      "execution_count": null,
      "source": [
        "df['Price'] = df[\"Price\"].fillna(830000)"
      ],
      "outputs": [],
      "metadata": {
        "colab": {
          "base_uri": "https://localhost:8080/"
        },
        "id": "gMHKunRcNNbr",
        "outputId": "79e971ea-c080-4811-8bde-4cd78841c54f"
      }
    },
    {
      "cell_type": "code",
      "execution_count": null,
      "source": [
        "df.isnull().sum()"
      ],
      "outputs": [],
      "metadata": {
        "colab": {
          "base_uri": "https://localhost:8080/"
        },
        "id": "ZhNrDyP3NNeE",
        "outputId": "63a74cb3-883b-4c28-a12b-9527c0c46edf"
      }
    },
    {
      "cell_type": "markdown",
      "source": [
        "# Looking into correlations of the categorical features against the target variable"
      ],
      "metadata": {
        "id": "Aaqbd7_pPPR5"
      }
    },
    {
      "cell_type": "markdown",
      "source": [
        "Features with high correlation are more linearly dependent and hence have almost the same effect on the dependent variable. So, when two features have high correlation, we can drop one of the two features."
      ],
      "metadata": {
        "id": "kpZ0cI7_dMGK"
      }
    },
    {
      "cell_type": "markdown",
      "source": [
        "We are trying to assess which variables are the most and least correlated to the target(price) variable"
      ],
      "metadata": {
        "id": "Jk9CSo3vPwCg"
      }
    },
    {
      "cell_type": "code",
      "execution_count": null,
      "source": [
        "# Deleting address and seller because they are not usedul in predicting our target variable\n",
        "df = df.drop(['Address', 'SellerG'], axis = 1)"
      ],
      "outputs": [],
      "metadata": {
        "id": "uhEnOiEHP9zY"
      }
    },
    {
      "cell_type": "code",
      "execution_count": null,
      "source": [
        "df.head()"
      ],
      "outputs": [],
      "metadata": {
        "colab": {
          "base_uri": "https://localhost:8080/",
          "height": 289
        },
        "id": "THBei3RhIKg-",
        "outputId": "f417c085-460d-4240-a454-1a8888a07cd2"
      }
    },
    {
      "cell_type": "code",
      "execution_count": null,
      "source": [
        "# Plotting the heatmap to understand the features correlation for houses sold of type h\n",
        "#fig,ax = plt.subplots(figsize=(15,15))\n",
        "import seaborn as sns\n",
        "sns.heatmap(df[df['Type']=='h'].corr(),annot = True)"
      ],
      "outputs": [],
      "metadata": {
        "colab": {
          "base_uri": "https://localhost:8080/",
          "height": 286
        },
        "id": "byG9tTUAPNQ8",
        "outputId": "ada5aada-64d5-4c03-8717-5cd5bed5083d"
      }
    },
    {
      "cell_type": "code",
      "execution_count": null,
      "source": [
        "#checking the correlations filtering only the houses sold\n",
        "import seaborn as sns\n",
        "sns.heatmap(df[df['Type']=='u'].corr(), annot = True)"
      ],
      "outputs": [],
      "metadata": {
        "colab": {
          "base_uri": "https://localhost:8080/",
          "height": 286
        },
        "id": "g6bkTeMkVH24",
        "outputId": "27842ef4-c43d-4a91-9f2b-8138513f38cd"
      }
    },
    {
      "cell_type": "code",
      "execution_count": null,
      "source": [
        "df.corr()\n"
      ],
      "outputs": [],
      "metadata": {
        "colab": {
          "base_uri": "https://localhost:8080/",
          "height": 173
        },
        "id": "rnpDfHDWNNgs",
        "outputId": "086faedb-6d13-4a1c-d49e-cbde0bfb710c"
      }
    },
    {
      "cell_type": "code",
      "execution_count": null,
      "source": [
        "corr_matrix = df.corr()\n",
        "\n",
        "# Check the how much each attribute correlates with the median house value\n",
        "corr_matrix['Price'].sort_values(ascending=False)"
      ],
      "outputs": [],
      "metadata": {
        "colab": {
          "base_uri": "https://localhost:8080/"
        },
        "id": "HpHea2yuNNjM",
        "outputId": "da5fa61f-58a7-403c-e461-540a080a38a2"
      }
    },
    {
      "cell_type": "markdown",
      "source": [
        "I noticed that there is a very low correlation between propertyCount and price, so we might want to consider removing propertyCount in the future."
      ],
      "metadata": {
        "id": "Qs64J8LXIWrb"
      }
    },
    {
      "cell_type": "markdown",
      "source": [
        "Neighborhoods having a higher propertycount in a neighborhood have a negatice impact on the price. I was also surprised to see that property count of a suburb has a negative correlation with price. This may be due to the fact that suburbs that are nicer might be more sparsely populated, thus leading to have a lower propertyCount. \n",
        "\n",
        "It makes sense that there is a negative correlation between distance to CBD and price(Look into if places in CBD are more expensive). \n",
        "      -- Might want to look at houses bought that are within 5 miles from CBD and houses that are greater than 5 minutes.\n",
        "\n",
        "      I was surprised to see a weak positive correlation between room numbers and price. I thought there would be a much stronger correlation as properties "
      ],
      "metadata": {
        "id": "UNlYtVgsQccs"
      }
    },
    {
      "cell_type": "code",
      "execution_count": null,
      "source": [
        "from pandas.plotting import scatter_matrix"
      ],
      "outputs": [],
      "metadata": {
        "id": "LMhv-dMrInfM"
      }
    },
    {
      "cell_type": "code",
      "execution_count": null,
      "source": [
        "\n",
        "#we include all the numerical variables except for postcode\n",
        "attributes = ['Rooms', 'Price',  'Propertycount', 'Distance']\n",
        "scatter_matrix(df[attributes], figsize=(12,12))"
      ],
      "outputs": [],
      "metadata": {
        "colab": {
          "base_uri": "https://localhost:8080/",
          "height": 1000
        },
        "id": "p1Utlg1BNNk7",
        "outputId": "88caf1f1-6be0-4c8b-a37b-78038f0ab34d"
      }
    },
    {
      "cell_type": "code",
      "execution_count": null,
      "source": [
        "import matplotlib.pyplot as plt\n",
        "import seaborn as sns"
      ],
      "outputs": [],
      "metadata": {
        "id": "fONz5bBsNNn8"
      }
    },
    {
      "cell_type": "code",
      "execution_count": null,
      "source": [
        "colormap = plt.cm.RdBu\n",
        "plt.figure(figsize=(32,10))\n",
        "plt.title('Correlation of Features', y=1.05, size=15)\n",
        "sns.heatmap(df_no_dups.corr(),linewidths=0.1,vmax=1.0, \n",
        "            square=True, cmap=colormap, linecolor= 'white', annot=True)"
      ],
      "outputs": [],
      "metadata": {
        "colab": {
          "base_uri": "https://localhost:8080/",
          "height": 654
        },
        "id": "FLi9_V8aNNrK",
        "outputId": "eb49a971-7cf7-4479-c0cc-2b95399487a3"
      }
    },
    {
      "cell_type": "code",
      "execution_count": null,
      "source": [
        "import seaborn as sns"
      ],
      "outputs": [],
      "metadata": {
        "id": "v4Alga2uNNvB"
      }
    },
    {
      "cell_type": "code",
      "execution_count": null,
      "source": [
        "import matplotlib.pyplot as plt"
      ],
      "outputs": [],
      "metadata": {
        "id": "elnywbooT_90"
      }
    },
    {
      "cell_type": "code",
      "execution_count": null,
      "source": [
        "attributes = ['Rooms', 'Price',  'Propertycount', 'Distance']\n",
        "corr = df[['Rooms', 'Price',  'Propertycount', 'Distance']].corr() "
      ],
      "outputs": [],
      "metadata": {
        "id": "IAfkDpl7UYg8"
      }
    },
    {
      "cell_type": "code",
      "execution_count": null,
      "source": [
        "# plt.figure(figure = (10,6))\n",
        "# sns.heatmap(corr, annot = True)"
      ],
      "outputs": [],
      "metadata": {
        "colab": {
          "base_uri": "https://localhost:8080/",
          "height": 324
        },
        "id": "UwlBVtTeUAHB",
        "outputId": "567ab946-f569-4c8f-9bc2-b370babc9bf3"
      }
    },
    {
      "cell_type": "code",
      "execution_count": null,
      "source": [
        "#None of the numerical predictor variables are \n",
        "threshold = 0.5\n",
        "a = abs(corr['Price'])\n",
        "result = a[a <0.5]\n",
        "result"
      ],
      "outputs": [],
      "metadata": {
        "colab": {
          "base_uri": "https://localhost:8080/"
        },
        "id": "FGiTRtJHUAJh",
        "outputId": "16fc0e09-9a90-4b08-9121-cefe9001fe71"
      }
    },
    {
      "cell_type": "markdown",
      "source": [
        "We are if any features are highly correlated with each other(to check for multicollinearity). There should be little or no Multicollinearity present in the data is an assumption for linear regression."
      ],
      "metadata": {
        "id": "XDuJYzv9Vh5M"
      }
    },
    {
      "cell_type": "code",
      "execution_count": null,
      "source": [
        "df[['Rooms', 'Propertycount']].corr()"
      ],
      "outputs": [],
      "metadata": {
        "colab": {
          "base_uri": "https://localhost:8080/",
          "height": 111
        },
        "id": "8gIch0zmUANH",
        "outputId": "b94bd511-499b-437a-cf87-7a3405541a03"
      }
    },
    {
      "cell_type": "code",
      "execution_count": null,
      "source": [
        "df[['Rooms', 'Distance']].corr()"
      ],
      "outputs": [],
      "metadata": {
        "colab": {
          "base_uri": "https://localhost:8080/",
          "height": 111
        },
        "id": "YwCLhRneUAPl",
        "outputId": "c82e447f-f4ba-4faf-b5b9-52bb79cb8c82"
      }
    },
    {
      "cell_type": "code",
      "execution_count": null,
      "source": [
        "df[['Propertycount', 'Distance']].corr()"
      ],
      "outputs": [],
      "metadata": {
        "colab": {
          "base_uri": "https://localhost:8080/",
          "height": 111
        },
        "id": "v5ctw2OmuMTC",
        "outputId": "e1f037ac-ff88-46ef-f3c3-15754845910f"
      }
    },
    {
      "cell_type": "markdown",
      "source": [
        "I do not see any concerns for multicollinearity between categorical variables."
      ],
      "metadata": {
        "id": "4jaXwgJcuVtJ"
      }
    },
    {
      "cell_type": "markdown",
      "source": [
        "#Backwards elimination to assess what features to keep for our model"
      ],
      "metadata": {
        "id": "zb1ZrriHgi8s"
      }
    },
    {
      "cell_type": "code",
      "execution_count": null,
      "source": [
        "pip install statsmodels "
      ],
      "outputs": [],
      "metadata": {
        "colab": {
          "base_uri": "https://localhost:8080/"
        },
        "id": "iYB-DE7qungf",
        "outputId": "c860fc92-05cf-4d34-e6a6-a93c5dc1de9b"
      }
    },
    {
      "cell_type": "code",
      "execution_count": null,
      "source": [
        "pip install statsmodels --upgrade"
      ],
      "outputs": [],
      "metadata": {
        "colab": {
          "base_uri": "https://localhost:8080/",
          "height": 412
        },
        "id": "hQWqpm_Vu2n9",
        "outputId": "77f7a86e-da1c-4811-922d-4b8d1c4794a7"
      }
    },
    {
      "cell_type": "code",
      "execution_count": null,
      "source": [
        "import pandas as pd\n",
        "#import statsmodel.api as sm\n"
      ],
      "outputs": [],
      "metadata": {
        "id": "thIcGXQhh8nV"
      }
    },
    {
      "cell_type": "code",
      "execution_count": null,
      "source": [
        "from statsmodels import api as sm"
      ],
      "outputs": [],
      "metadata": {
        "id": "cOQa0MkhvR7T"
      }
    },
    {
      "cell_type": "code",
      "execution_count": null,
      "source": [
        "X = df[['Rooms', 'Propertycount', 'Distance']]\n",
        "y = df['Price']"
      ],
      "outputs": [],
      "metadata": {
        "id": "rABHphzCfUJY"
      }
    },
    {
      "cell_type": "code",
      "execution_count": null,
      "source": [
        "#Adding constant column of ones, mandatory for sm.OLS model\n",
        "X_1 = sm.add_constant(X)\n",
        "#Fitting sm.OLS model\n",
        "model = sm.OLS(y,X_1).fit()\n",
        "model.pvalues"
      ],
      "outputs": [],
      "metadata": {
        "colab": {
          "base_uri": "https://localhost:8080/"
        },
        "id": "VxZdzQ19xHMy",
        "outputId": "f555c6d7-f508-438a-aaec-8a565064566a"
      }
    },
    {
      "cell_type": "markdown",
      "source": [
        "Because none of the p-values are greater than 0.05, I do not see any reason to remove any of the variables"
      ],
      "metadata": {
        "id": "j7SN19lUxKhJ"
      }
    },
    {
      "cell_type": "code",
      "execution_count": null,
      "source": [
        "cols = list(X.columns)\n",
        "pmax = 1\n",
        "while (len(cols) > 0):\n",
        "  p = []\n",
        "  x_1 = X[cols] \n",
        "  x_1 = sm.add_constant(x_1)\n",
        "  model = sm.OLS(y, x_1).fit()\n",
        "  p = pd.Series(model.pvalues.values[1:])\n",
        "  pmax = max(p)\n",
        "  features_with_p_max = p.idxmax()\n",
        "  if(pmax > 0.05):\n",
        "    cols.remove(features_with_p_max)\n",
        "  else:\n",
        "    break\n"
      ],
      "outputs": [],
      "metadata": {
        "id": "tnTjWamlfUUr"
      }
    },
    {
      "cell_type": "code",
      "execution_count": null,
      "source": [
        "selected_features = cols\n",
        "print(selected_features)"
      ],
      "outputs": [],
      "metadata": {
        "colab": {
          "base_uri": "https://localhost:8080/"
        },
        "id": "buMLUfKXfUXj",
        "outputId": "ec1de189-c44e-448f-d810-a0ca08d38638"
      }
    },
    {
      "cell_type": "code",
      "execution_count": null,
      "source": [
        "#We did not remove any of the numerical features here"
      ],
      "outputs": [],
      "metadata": {
        "id": "hhK5GG_wxyeV"
      }
    },
    {
      "cell_type": "markdown",
      "source": [
        "#Analyzing Postcode category"
      ],
      "metadata": {
        "id": "LejIIsWvUeJP"
      }
    },
    {
      "cell_type": "markdown",
      "source": [
        "Lets see which postcode has the most transcations, and see the avergae price of the most popular and least popular postcodes. We can also see the average distance for each postcode category"
      ],
      "metadata": {
        "id": "8bCX0Jf4UuzG"
      }
    },
    {
      "cell_type": "code",
      "execution_count": null,
      "source": [
        "#\n",
        "df['Postcode'].value_counts(ascending = False)"
      ],
      "outputs": [],
      "metadata": {
        "colab": {
          "base_uri": "https://localhost:8080/"
        },
        "id": "cmWotLciXR5F",
        "outputId": "7fc6bcc5-8738-478e-c3af-b73caf55f9dd"
      }
    },
    {
      "cell_type": "code",
      "execution_count": null,
      "source": [
        "#applying the value counts on Distance(numeric column)\n",
        "df['Distance'].value_counts(ascending = False)\n"
      ],
      "outputs": [],
      "metadata": {
        "colab": {
          "base_uri": "https://localhost:8080/"
        },
        "id": "G3ZXVV7kXR7n",
        "outputId": "fe9b6a88-4a67-42bc-819b-2ccb2afff652"
      }
    },
    {
      "cell_type": "code",
      "execution_count": null,
      "source": [
        "#lets try to explore the top postcodes in our dataframe\n",
        "df_top_post = df[(df.Postcode == 3073) | (df.Postcode == 3150) | (df.Postcode == 3064) | (df.Postcode == 3121) | (df.Postcode == 3046)]"
      ],
      "outputs": [],
      "metadata": {
        "id": "4D1GPnUrXR-5"
      }
    },
    {
      "cell_type": "code",
      "execution_count": null,
      "source": [
        "df_top_post.describe()"
      ],
      "outputs": [],
      "metadata": {
        "colab": {
          "base_uri": "https://localhost:8080/",
          "height": 297
        },
        "id": "M2v3cp69kjr1",
        "outputId": "96191ce8-dfd3-42bb-fe3c-915759923bd5"
      }
    },
    {
      "cell_type": "code",
      "execution_count": null,
      "source": [
        "import matplotlib.pyplot as plt\n",
        "import seaborn as sns"
      ],
      "outputs": [],
      "metadata": {
        "id": "bpjHEvaOlIWI"
      }
    },
    {
      "cell_type": "code",
      "execution_count": null,
      "source": [
        "#L plot the distance \n",
        "plt.figure(figsize=(8,5))\n",
        "sns.barplot(x='Postcode',y = 'Distance',data= df_top_post, palette='rainbow')\n",
        "plt.title(\"Fare of Passenger by Embarked Town, Divided by Class\")"
      ],
      "outputs": [],
      "metadata": {
        "colab": {
          "base_uri": "https://localhost:8080/",
          "height": 371
        },
        "id": "xwv-MIaGc_yg",
        "outputId": "1f7d3474-6057-4f25-ba9b-20064ea5531f"
      }
    },
    {
      "cell_type": "code",
      "execution_count": null,
      "source": [
        "#making a boxplot\n",
        "plt.figure(figsize=(16,15))\n",
        "\n",
        "sns.scatterplot(x = df_top_post['Postcode'], y = df_top_post['Distance'], data=df)\n",
        "plt.title(\"Distance to CBD of top\")\n",
        "#figure out how to label box plot points with the x-value on graph"
      ],
      "outputs": [],
      "metadata": {
        "id": "MVxp2WW2KCRI",
        "colab": {
          "base_uri": "https://localhost:8080/",
          "height": 914
        },
        "outputId": "50dc26f2-e077-41d4-d1f4-ed78a5e503e8"
      }
    },
    {
      "cell_type": "code",
      "execution_count": null,
      "source": [
        "#L plot the distance \n",
        "plt.figure(figsize=(16,15))\n",
        "sns.barplot(x=df_top_post['Postcode'],y=df_top_post['Distance'],data = df_top_post, palette='rainbow', hue='Type')\n",
        "plt.title(\"Distance to CBD of top\")"
      ],
      "outputs": [],
      "metadata": {
        "id": "jBNBVB1DMsCV",
        "colab": {
          "base_uri": "https://localhost:8080/",
          "height": 914
        },
        "outputId": "9d734895-76e8-4774-b84c-496876e4a55f"
      }
    },
    {
      "cell_type": "code",
      "execution_count": null,
      "source": [
        "plt.figure(figsize=(12,8))\n",
        "\n",
        "sorted_nb = df_top_post.groupby(['Postcode'])['Price'].median().sort_values()\n",
        "sns.boxplot(x=df_top_post['Postcode'], y=df_top_post['Price'], order=list(sorted_nb.index))\n",
        "plt.title(\"boxplot of\")"
      ],
      "outputs": [],
      "metadata": {
        "id": "-u9gXF8nMsIS",
        "colab": {
          "base_uri": "https://localhost:8080/",
          "height": 534
        },
        "outputId": "1568725b-ac97-499b-d2c4-5db4ecd232b3"
      }
    },
    {
      "cell_type": "code",
      "execution_count": null,
      "source": [],
      "outputs": [],
      "metadata": {
        "id": "byqAnvroMsPp"
      }
    },
    {
      "cell_type": "markdown",
      "source": [
        "Exploring the least popular postcodes against distance to see how far away from CBD the least amount of people live"
      ],
      "metadata": {
        "id": "wWR2smrWecMO"
      }
    },
    {
      "cell_type": "code",
      "execution_count": null,
      "source": [
        "#lets explore the bottom postcodes against \n",
        "df_bottom_post = df[(df.Postcode == 3114) | (df.Postcode == 3759) | (df.Postcode == 3755) | (df.Postcode == 3791) | (df.Postcode == 3795)]"
      ],
      "outputs": [],
      "metadata": {
        "id": "gEJIIJtoXSOX"
      }
    },
    {
      "cell_type": "code",
      "execution_count": null,
      "source": [
        "df_bottom_post['Postcode'].unique()"
      ],
      "outputs": [],
      "metadata": {
        "colab": {
          "base_uri": "https://localhost:8080/"
        },
        "id": "TqRRXZzhKU3Z",
        "outputId": "4471401b-ec04-4f39-9508-ce3c1c3343ab"
      }
    },
    {
      "cell_type": "code",
      "execution_count": null,
      "source": [
        "df_bottom_post"
      ],
      "outputs": [],
      "metadata": {
        "colab": {
          "base_uri": "https://localhost:8080/",
          "height": 577
        },
        "id": "V76TGXgvKhum",
        "outputId": "21bbbcb0-a6a5-4c0a-bd65-d4cac039e64d"
      }
    },
    {
      "cell_type": "code",
      "execution_count": null,
      "source": [
        "#making a boxplot\n",
        "plt.figure(figsize=(16,15))\n",
        "\n",
        "sns.barplot(x= df_bottom_post['Postcode'], y=df_bottom_post['Distance'], data=df)\n",
        "plt.title(\"Distance to CBD of top\")"
      ],
      "outputs": [],
      "metadata": {
        "colab": {
          "base_uri": "https://localhost:8080/",
          "height": 914
        },
        "id": "t1pSiGtSLotd",
        "outputId": "10463ec9-189f-42b7-becb-e22c06cb826c"
      }
    },
    {
      "cell_type": "markdown",
      "source": [
        "Distance to CBD is a lot higher in the least popular Postcodes. This makes sense as more people would want to live closer to CBD."
      ],
      "metadata": {
        "id": "FN94E83304sx"
      }
    },
    {
      "cell_type": "code",
      "execution_count": null,
      "source": [
        "#L plot the distance \n",
        "plt.figure(figsize=(16,15))\n",
        "sns.barplot(x=df_bottom_post['Postcode'],y=df_bottom_post['Distance'],data = df_bottom_post, palette='rainbow', hue='Type')\n",
        "plt.title(\"Distance to CBD of top\")"
      ],
      "outputs": [],
      "metadata": {
        "colab": {
          "base_uri": "https://localhost:8080/",
          "height": 914
        },
        "id": "Phx6520tXSX3",
        "outputId": "747408c9-f322-472d-b932-7764b0d1757e"
      }
    },
    {
      "cell_type": "code",
      "execution_count": null,
      "source": [
        "#Creating a swarm plot\n",
        "plt.figure(figsize=(12,8))\n",
        "sns.stripplot(x = df_bottom_post['Postcode'], y = df_bottom_post['Distance'], data=df_bottom_post, jitter=True, hue='Type', dodge=True, palette='viridis')"
      ],
      "outputs": [],
      "metadata": {
        "colab": {
          "base_uri": "https://localhost:8080/",
          "height": 571
        },
        "id": "GXxGOcf8fjQq",
        "outputId": "6c1489a5-4f05-45dd-e782-02c8094ca08d"
      }
    },
    {
      "cell_type": "code",
      "execution_count": null,
      "source": [
        "plt.figure(figsize=(12,8))\n",
        "\n",
        "sorted_nb = df_bottom_post.groupby(['Postcode'])['Price'].median().sort_values()\n",
        "sns.boxplot(x=df_bottom_post['Postcode'], y=df_bottom_post['Price'], order=list(sorted_nb.index))\n",
        "plt.title(\"boxplot of\")"
      ],
      "outputs": [],
      "metadata": {
        "colab": {
          "base_uri": "https://localhost:8080/",
          "height": 534
        },
        "id": "uJoDr2A8MKvz",
        "outputId": "cafce7f4-bda9-4327-aef3-3be44a5aa9ba"
      }
    },
    {
      "cell_type": "markdown",
      "source": [
        "comparing the summary statistics of both subsetted data frames"
      ],
      "metadata": {
        "id": "JpsUdCBM21Q2"
      }
    },
    {
      "cell_type": "code",
      "execution_count": null,
      "source": [
        "df_bottom_post.describe()"
      ],
      "outputs": [],
      "metadata": {
        "colab": {
          "base_uri": "https://localhost:8080/",
          "height": 297
        },
        "id": "RJACEbIc20Hy",
        "outputId": "cc4ca918-c955-4da6-8cdd-013b3dc949a5"
      }
    },
    {
      "cell_type": "code",
      "execution_count": null,
      "source": [
        "df_top_post.describe()"
      ],
      "outputs": [],
      "metadata": {
        "colab": {
          "base_uri": "https://localhost:8080/",
          "height": 297
        },
        "id": "ygPEAABu20LJ",
        "outputId": "1f9c7c94-90d7-4955-d53f-1ed9d401c8e8"
      }
    },
    {
      "cell_type": "markdown",
      "source": [
        "Comparing these two tells us a lot of things. I mostly compared the min, max, and median of each variable across the respective dataset to see how the other numeric features varied for the most popular post codes and the least popular post codes"
      ],
      "metadata": {
        "id": "YsNYd7LF35Lc"
      }
    },
    {
      "cell_type": "markdown",
      "source": [
        "I noticed that the median nuumber of rooms is a lot popular in the top post codes data set. This makes sense from our plots becasue those post codes in the top data set are a lot closer to CBD which is high in property value. Thus it makes sense that these properties would have less rooms.\n",
        "\n",
        "It also makes sense that there is a DRASTIC difference in price. This is due to the distance to CBD. \n",
        "\n",
        "Property Count is also a higher in the top_post_codes. Which makes sense because suburbsnear CBD would be a lot more dense "
      ],
      "metadata": {
        "id": "WrTwKlwi4cvH"
      }
    },
    {
      "cell_type": "markdown",
      "source": [
        "# Looking into Distance category"
      ],
      "metadata": {
        "id": "XKH5t8J-i-Eb"
      }
    },
    {
      "cell_type": "markdown",
      "source": [
        "Lets subset the data for distance <5 and distance >=5 and look at features such as propertyCount, price"
      ],
      "metadata": {
        "id": "syCn-303NjYm"
      }
    },
    {
      "cell_type": "code",
      "execution_count": null,
      "source": [
        "df_close_dist = df[df['Distance'] < 5]\n",
        "df_close_dist.head()"
      ],
      "outputs": [],
      "metadata": {
        "colab": {
          "base_uri": "https://localhost:8080/",
          "height": 289
        },
        "id": "GMi8rnyGOA3w",
        "outputId": "fe65e02f-8a85-4f57-cfc5-296c76f7ae05"
      }
    },
    {
      "cell_type": "code",
      "execution_count": null,
      "source": [
        "df_close_dist"
      ],
      "outputs": [],
      "metadata": {
        "colab": {
          "base_uri": "https://localhost:8080/",
          "height": 589
        },
        "id": "rA8KJSvJOeS7",
        "outputId": "86a464e7-7898-49bb-ec56-fc71d9b09d76"
      }
    },
    {
      "cell_type": "code",
      "execution_count": null,
      "source": [
        "df_close_dist['Distance'].value_counts(bins = True) #Not too sure what this represents"
      ],
      "outputs": [],
      "metadata": {
        "colab": {
          "base_uri": "https://localhost:8080/"
        },
        "id": "DP7gMqQwOgtY",
        "outputId": "84194473-badd-40f3-ae55-2329b85e97c1"
      }
    },
    {
      "cell_type": "code",
      "execution_count": null,
      "source": [
        "df_close_dist.describe()"
      ],
      "outputs": [],
      "metadata": {
        "colab": {
          "base_uri": "https://localhost:8080/",
          "height": 297
        },
        "id": "1LxmH5HPO2zt",
        "outputId": "3a162707-0220-42aa-b9b6-d828a1b73913"
      }
    },
    {
      "cell_type": "markdown",
      "source": [
        "Subsetting the distance for >= 5 miles away from CBD"
      ],
      "metadata": {
        "id": "p8cSYeKJOxEe"
      }
    },
    {
      "cell_type": "code",
      "execution_count": null,
      "source": [
        "df_far_dist = df[df['Distance'] >= 5]\n",
        "df_far_dist.head()"
      ],
      "outputs": [],
      "metadata": {
        "colab": {
          "base_uri": "https://localhost:8080/",
          "height": 289
        },
        "id": "GIIbHOfxOYN7",
        "outputId": "e46c7dc5-a9c3-4f08-f0ce-181015170aa7"
      }
    },
    {
      "cell_type": "code",
      "execution_count": null,
      "source": [
        "df_far_dist.describe()"
      ],
      "outputs": [],
      "metadata": {
        "colab": {
          "base_uri": "https://localhost:8080/",
          "height": 297
        },
        "id": "qRr85mp3OvsZ",
        "outputId": "7262d401-4a51-4763-cfb2-161374ba038d"
      }
    },
    {
      "cell_type": "code",
      "execution_count": null,
      "source": [
        "df_close_dist.describe()"
      ],
      "outputs": [],
      "metadata": {
        "colab": {
          "base_uri": "https://localhost:8080/",
          "height": 297
        },
        "id": "HvpgzRGj6hCr",
        "outputId": "2c2993a0-3be5-4d7c-ec76-3e7cbeee55d4"
      }
    },
    {
      "cell_type": "markdown",
      "source": [
        "As we can see here, the mean price varies drastically between each respective subsetted dataset.\n",
        "The rooms is also higher for the close distance which also makes sense. "
      ],
      "metadata": {
        "id": "zlF-ZMcDPQPz"
      }
    },
    {
      "cell_type": "markdown",
      "source": [
        "#Getting rid of outliers "
      ],
      "metadata": {
        "id": "lQJWknnIb7rY"
      }
    },
    {
      "cell_type": "markdown",
      "source": [
        "Getting rid of outliers for Price and plotting both of the distributions"
      ],
      "metadata": {
        "id": "NsLWjTS1TPvd"
      }
    },
    {
      "cell_type": "markdown",
      "source": [
        "We will run the algorithm with and without the outliers"
      ],
      "metadata": {
        "id": "akHex8exUDKo"
      }
    },
    {
      "cell_type": "code",
      "execution_count": null,
      "source": [
        "#Getting rid of outliers in the price column\n",
        "import seaborn as sns\n",
        "import matplotlib.pyplot as plt\n",
        "Q1 = df['Price'].quantile(0.25)\n",
        "Q3 = df['Price'].quantile(0.75)\n",
        "IQR = Q3-Q1\n",
        "Lower_Whisker = Q1 - 1.5*IQR\n",
        "Upper_Whisker = Q3 + 1.5*IQR\n"
      ],
      "outputs": [],
      "metadata": {
        "id": "iCB39VuxMdH2"
      }
    },
    {
      "cell_type": "code",
      "execution_count": null,
      "source": [
        "df_price_outliers_lower = df[(df['Price'] < Lower_Whisker)]\n",
        "df_price_outliers_upper = df[(df['Price'] > Upper_Whisker)]\n",
        "\n"
      ],
      "outputs": [],
      "metadata": {
        "id": "pSff-rjebHUg"
      }
    },
    {
      "cell_type": "code",
      "execution_count": null,
      "source": [
        "import pandas as pd\n",
        "df_price_outliers = pd.concat([df_price_outliers_lower, df_price_outliers_upper])\n"
      ],
      "outputs": [],
      "metadata": {
        "id": "4F2s_Yh8bXNm"
      }
    },
    {
      "cell_type": "code",
      "execution_count": null,
      "source": [
        "df_price_outliers"
      ],
      "outputs": [],
      "metadata": {
        "colab": {
          "base_uri": "https://localhost:8080/",
          "height": 589
        },
        "id": "5JEBcVq2clHr",
        "outputId": "f9a0e350-9f42-48aa-9d12-5118bfdbf905"
      }
    },
    {
      "cell_type": "markdown",
      "source": [
        "we have 5322 entries that are outliers for price"
      ],
      "metadata": {
        "id": "3ITCAPvAcywQ"
      }
    },
    {
      "cell_type": "code",
      "execution_count": null,
      "source": [
        "#hosting all the outliers into a dataframe to plot\n",
        "#df_price_outliers = df[(df['Price'] < Lower_Whisker) or (df['Price'] > Upper_Whisker)]\n",
        "\n",
        "\n",
        "#Plotting the price distribution without outliers \n",
        "\n",
        "plt.figure(figsize=(10,5))\n",
        "sns.distplot(df['Price'], hist=True, kde = False, color = 'blue')\n",
        "plt.ylabel('Counts')"
      ],
      "outputs": [],
      "metadata": {
        "colab": {
          "base_uri": "https://localhost:8080/",
          "height": 408
        },
        "id": "cLzH8lWhMqpH",
        "outputId": "4ae8b7e0-ad9f-4c82-be43-5ae5fc407f67"
      }
    },
    {
      "cell_type": "code",
      "execution_count": null,
      "source": [
        "#original dataset getting rid of outliers\n",
        "# = df.drop(df_price_outliers.index)"
      ],
      "outputs": [],
      "metadata": {
        "id": "syR0VSdnPz7C"
      }
    },
    {
      "cell_type": "code",
      "execution_count": null,
      "source": [
        "#Plotting the distribtuion without the outliers \n",
        "\n",
        "plt.figure(figsize=(10,5))\n",
        "sns.distplot(df_no_out['Price'],hist=True, kde=False, color='blue')\n",
        "plt.ylabel('Counts')"
      ],
      "outputs": [],
      "metadata": {
        "colab": {
          "base_uri": "https://localhost:8080/",
          "height": 408
        },
        "id": "Xmkku2PQNPpF",
        "outputId": "3a77d07d-cd14-4b2b-fb7c-f33bebd8d758"
      }
    },
    {
      "cell_type": "code",
      "execution_count": null,
      "source": [
        "#reassign the dataframe without \n",
        "#df = df_no_out"
      ],
      "outputs": [],
      "metadata": {
        "id": "ggDy84fE81x2"
      }
    },
    {
      "cell_type": "markdown",
      "source": [
        "Plotting the distributions of room numbers with and without outliers\n"
      ],
      "metadata": {
        "id": "30RWsX4AOjwV"
      }
    },
    {
      "cell_type": "code",
      "execution_count": null,
      "source": [
        "#Get outliers for  room numbers\n",
        "import seaborn as sns\n",
        "import matplotlib.pyplot as plt\n",
        "Q1 = df['Rooms'].quantile(0.25)\n",
        "Q3 = df['Rooms'].quantile(0.75)\n",
        "IQR = Q3-Q1\n",
        "Lower_Whisker = Q1 - 1.5*IQR\n",
        "Upper_Whisker = Q3 + 1.5*IQR\n"
      ],
      "outputs": [],
      "metadata": {
        "id": "hl7zs3irNGmN"
      }
    },
    {
      "cell_type": "code",
      "execution_count": null,
      "source": [
        "df_rooms_outliers_lower = df[(df['Rooms'] < Lower_Whisker)]\n",
        "df_rooms_outliers_upper = df[(df['Rooms'] > Upper_Whisker)]\n",
        "df_rooms_outliers = pd.concat([df_rooms_outliers_lower, df_rooms_outliers_upper])\n"
      ],
      "outputs": [],
      "metadata": {
        "id": "hklyOT5WetdU"
      }
    },
    {
      "cell_type": "code",
      "execution_count": null,
      "source": [
        "#plotting  outliers for number of rooms\n",
        "#df_rooms_outliers = df[(df['Rooms'] < Lower_Whisker) or (df['Rooms'] > Upper_Whisker)]\n",
        "plt.figure(figsize=(10,5))\n",
        "sns.distplot(df['Rooms'], hist=True, kde=False, color='blue')\n",
        "plt.ylabel('Counts')"
      ],
      "outputs": [],
      "metadata": {
        "colab": {
          "base_uri": "https://localhost:8080/",
          "height": 408
        },
        "id": "8IwIf4PXOi0g",
        "outputId": "d3e6f5df-50ab-4b46-a986-f85a0206f282"
      }
    },
    {
      "cell_type": "code",
      "execution_count": null,
      "source": [
        "#df_no_out = df.drop(df_rooms_outliers.index)"
      ],
      "outputs": [],
      "metadata": {
        "id": "5q0nbVxUQ5UL"
      }
    },
    {
      "cell_type": "code",
      "execution_count": null,
      "source": [
        "#plotting without outliers\n",
        "plt.figure(figsize=(10,5))\n",
        "sns.distplot(df_no_out['Rooms'],hist=True, kde=False, color='blue')\n",
        "plt.ylabel('Counts')"
      ],
      "outputs": [],
      "metadata": {
        "colab": {
          "base_uri": "https://localhost:8080/",
          "height": 408
        },
        "id": "WpHpBR2XOi4C",
        "outputId": "1a0a83b1-3e41-476d-8324-10e7351bf54b"
      }
    },
    {
      "cell_type": "markdown",
      "source": [
        "Our graph looks a lot more normally distributed now."
      ],
      "metadata": {
        "id": "_3HyR3GV9ROl"
      }
    },
    {
      "cell_type": "markdown",
      "source": [
        "Plotting the distributions of PropertyCount with and without outliers\n"
      ],
      "metadata": {
        "id": "mvKw_fUaiE8x"
      }
    },
    {
      "cell_type": "code",
      "execution_count": null,
      "source": [
        "#Get rid of outliers as  Propertycount\n",
        "import seaborn as sns\n",
        "import matplotlib.pyplot as plt\n",
        "Q1 = df['Propertycount'].quantile(0.25)\n",
        "Q3 = df['Propertycount'].quantile(0.75)\n",
        "IQR = Q3-Q1\n",
        "Lower_Whisker = Q1 - 1.5*IQR\n",
        "Upper_Whisker = Q3 + 1.5*IQR\n"
      ],
      "outputs": [],
      "metadata": {
        "id": "bFsh7uDuNX2v"
      }
    },
    {
      "cell_type": "code",
      "execution_count": null,
      "source": [
        "df_prop_outliers_lower = df[(df['Propertycount'] < Lower_Whisker)]\n",
        "df_prop_outliers_upper = df[(df['Propertycount'] > Upper_Whisker)]\n",
        "df_prop_outliers = pd.concat([df_rooms_outliers_lower, df_rooms_outliers_upper])"
      ],
      "outputs": [],
      "metadata": {
        "id": "TdRiBHAKh3aF"
      }
    },
    {
      "cell_type": "code",
      "execution_count": null,
      "source": [
        "plt.figure(figsize=(10,5))\n",
        "sns.distplot(df['Propertycount'], hist = True, kde = False, color = 'blue')\n",
        "plt.ylabel('Counts')"
      ],
      "outputs": [],
      "metadata": {
        "colab": {
          "base_uri": "https://localhost:8080/",
          "height": 408
        },
        "id": "5KJ9db9LgOTu",
        "outputId": "76c2e89d-ec5d-41ec-f9a3-6da4d7f2a005"
      }
    },
    {
      "cell_type": "code",
      "execution_count": null,
      "source": [
        "# #Get rid of outliers as Distance\n",
        "# import seaborn as sns\n",
        "# import matplotlib.pyplot as plt\n",
        "# Q1 = df['Distance'].quantile(0.25)\n",
        "# Q3 = df['Distance'].quantile(0.75)\n",
        "# IQR = Q3-Q1\n",
        "# Lower_Whisker = Q1 - 1.5*IQR\n",
        "# Upper_Whisker = Q3 + 1.5*IQR\n",
        "# df = df[(df['Distance'] > Lower_Whisker)&(df['Distance'] < Upper_Whisker)]\n",
        "# plt.figure(figsize=(10,5))\n",
        "# sns.distplot(df['Distance'], hist=True, kde=False, color='blue')\n",
        "# plt.ylabel('Counts')"
      ],
      "outputs": [],
      "metadata": {
        "id": "aHtQVK65No2o"
      }
    },
    {
      "cell_type": "code",
      "execution_count": null,
      "source": [
        "#df_no_out = df.drop(df_prop_outliers.index)"
      ],
      "outputs": [],
      "metadata": {
        "id": "3_68avh1RnJC"
      }
    },
    {
      "cell_type": "code",
      "execution_count": null,
      "source": [
        "#plotting without outliers\n",
        "plt.figure(figsize=(10,5))\n",
        "sns.distplot(df_no_out['Propertycount'],hist=True, kde=False, color='blue')\n",
        "plt.ylabel('Counts')"
      ],
      "outputs": [],
      "metadata": {
        "colab": {
          "base_uri": "https://localhost:8080/",
          "height": 408
        },
        "id": "57pVYaoN9a-9",
        "outputId": "5aef8671-d57c-4cbf-8016-8fa45bddae95"
      }
    },
    {
      "cell_type": "markdown",
      "source": [
        "Getting rid of outliers for Distance"
      ],
      "metadata": {
        "id": "Yc_-JShF-52U"
      }
    },
    {
      "cell_type": "code",
      "execution_count": null,
      "source": [
        "#Get rid of outliers as  Propertycount\n",
        "import seaborn as sns\n",
        "import matplotlib.pyplot as plt\n",
        "Q1 = df['Distance'].quantile(0.25)\n",
        "Q3 = df['Distance'].quantile(0.75)\n",
        "IQR = Q3-Q1\n",
        "Lower_Whisker = Q1 - 1.5*IQR\n",
        "Upper_Whisker = Q3 + 1.5*IQR\n"
      ],
      "outputs": [],
      "metadata": {
        "id": "jDEI0xxG-8AV"
      }
    },
    {
      "cell_type": "code",
      "execution_count": null,
      "source": [
        "df_Dist_outliers_lower = df[(df['Distance'] < Lower_Whisker)]\n",
        "df_Dist_outliers_upper = df[(df['Distance'] > Upper_Whisker)]\n",
        "df_Dist_outliers = pd.concat([df_Dist_outliers_lower, df_Dist_outliers_upper])"
      ],
      "outputs": [],
      "metadata": {
        "id": "1_7L9u-m-8C7"
      }
    },
    {
      "cell_type": "code",
      "execution_count": null,
      "source": [
        "plt.figure(figsize=(10,5))\n",
        "sns.distplot(df['Distance'], hist = True, kde = False, color = 'blue')\n",
        "plt.ylabel('Counts')"
      ],
      "outputs": [],
      "metadata": {
        "colab": {
          "base_uri": "https://localhost:8080/",
          "height": 408
        },
        "id": "kAJVd0Ov-8Fc",
        "outputId": "1d178a04-46a3-4ce2-de63-cac6a9906b8e"
      }
    },
    {
      "cell_type": "code",
      "execution_count": null,
      "source": [],
      "outputs": [],
      "metadata": {
        "id": "RubHMTcFAQkV"
      }
    },
    {
      "cell_type": "code",
      "execution_count": null,
      "source": [
        "#plotting without outliers\n",
        "plt.figure(figsize=(10,5))\n",
        "sns.distplot(df_no_out['Distance'],hist=True, kde=False, color='blue')\n",
        "plt.ylabel('Counts')"
      ],
      "outputs": [],
      "metadata": {
        "colab": {
          "base_uri": "https://localhost:8080/",
          "height": 408
        },
        "id": "NCfthdXp-8Q3",
        "outputId": "5b374395-2c0c-40d2-fa08-d0fb25efbc25"
      }
    },
    {
      "cell_type": "markdown",
      "source": [
        "Getting rid of all the outliers from all the numerical features "
      ],
      "metadata": {
        "id": "v92EvTMs_r3x"
      }
    },
    {
      "cell_type": "code",
      "execution_count": null,
      "source": [
        "#concatening all the outliers and then dropping them \n",
        "df_all_outliers = pd.concat(df_price_outliers, df_rooms_outliers, df_prop_outliers, df_Dist_outliers)\n",
        "df.drop(df_all_outliers, axis = 1)"
      ],
      "outputs": [],
      "metadata": {
        "id": "ogIOzrlZ-eC9"
      }
    },
    {
      "cell_type": "markdown",
      "source": [
        "#Exploring Distance variation against other features\n",
        "\n",
        "---\n",
        "\n"
      ],
      "metadata": {
        "id": "BWkwKW9aThKK"
      }
    },
    {
      "cell_type": "markdown",
      "source": [
        "# EDA with Dates"
      ],
      "metadata": {
        "id": "h4l7r4tg5E0S"
      }
    },
    {
      "cell_type": "code",
      "execution_count": null,
      "source": [
        "import pandas as pd"
      ],
      "outputs": [],
      "metadata": {
        "id": "JmQ73chD95uN"
      }
    },
    {
      "cell_type": "code",
      "execution_count": null,
      "source": [
        "#convert to datetime\n",
        "df['Date']= pd.to_datetime(df['Date'])\n"
      ],
      "outputs": [],
      "metadata": {
        "id": "zSsd-erG6Kqr"
      }
    },
    {
      "cell_type": "code",
      "execution_count": null,
      "source": [
        "df.head()"
      ],
      "outputs": [],
      "metadata": {
        "colab": {
          "base_uri": "https://localhost:8080/",
          "height": 289
        },
        "id": "2OED6rRuAvft",
        "outputId": "e6f430a8-66ab-4e2d-de6b-a52a7dbe812e"
      }
    },
    {
      "cell_type": "code",
      "execution_count": null,
      "source": [
        "type(df['Date'])"
      ],
      "outputs": [],
      "metadata": {
        "colab": {
          "base_uri": "https://localhost:8080/"
        },
        "id": "b_b5rGp5A6zk",
        "outputId": "0905bb12-6fb7-4e1d-b9c9-cca8f529c8a4"
      }
    },
    {
      "cell_type": "code",
      "execution_count": null,
      "source": [
        "#df['Date'] = df['Date'].astype('DatetimeIndex')"
      ],
      "outputs": [],
      "metadata": {
        "colab": {
          "base_uri": "https://localhost:8080/",
          "height": 307
        },
        "id": "-6k5PSGdM2h5",
        "outputId": "2b31fc88-6177-4de3-d4bc-a9691e39678f"
      }
    },
    {
      "cell_type": "code",
      "execution_count": null,
      "source": [
        "df['Date'] = pd.to_datetime(df['Date'])\n"
      ],
      "outputs": [],
      "metadata": {
        "id": "05bRN9T8P4mq"
      }
    },
    {
      "cell_type": "code",
      "execution_count": null,
      "source": [
        "type(df['Date'])"
      ],
      "outputs": [],
      "metadata": {
        "colab": {
          "base_uri": "https://localhost:8080/"
        },
        "id": "HpaigdO2BN6-",
        "outputId": "c724fc4c-bec0-49e5-9c53-40cc92a15bf0"
      }
    },
    {
      "cell_type": "code",
      "execution_count": null,
      "source": [
        "df.info()"
      ],
      "outputs": [],
      "metadata": {
        "colab": {
          "base_uri": "https://localhost:8080/"
        },
        "id": "6606BcUY76xY",
        "outputId": "82aa2438-bcb1-47c2-bcb5-e8368ccc1835"
      }
    },
    {
      "cell_type": "code",
      "execution_count": null,
      "source": [
        "min_date = min(df['Date'])"
      ],
      "outputs": [],
      "metadata": {
        "id": "FmkaRJ6lBaIm"
      }
    },
    {
      "cell_type": "code",
      "execution_count": null,
      "source": [
        "max_date = max(df['Date'])"
      ],
      "outputs": [],
      "metadata": {
        "id": "_vrErFjvBc_7"
      }
    },
    {
      "cell_type": "code",
      "execution_count": null,
      "source": [
        "max_date - min_date"
      ],
      "outputs": [],
      "metadata": {
        "colab": {
          "base_uri": "https://localhost:8080/"
        },
        "id": "6vBQUUs-UOWV",
        "outputId": "20c4e368-3a78-4dfb-934e-a5f62b1e7f48"
      }
    },
    {
      "cell_type": "code",
      "execution_count": null,
      "source": [
        "df['weekday'] = df['Date'].dt.dayofweek\n",
        "#converts to day of the week with monday being zero"
      ],
      "outputs": [],
      "metadata": {
        "id": "i5xhpRxD9QPl"
      }
    },
    {
      "cell_type": "code",
      "execution_count": null,
      "source": [
        "df.head()"
      ],
      "outputs": [],
      "metadata": {
        "colab": {
          "base_uri": "https://localhost:8080/",
          "height": 289
        },
        "id": "SFq1X1SC_P14",
        "outputId": "098de309-c0f3-479f-b223-0c6caec81048"
      }
    },
    {
      "cell_type": "code",
      "execution_count": null,
      "source": [
        "#f[df['Date'] == '2017-01-08']"
      ],
      "outputs": [],
      "metadata": {
        "colab": {
          "base_uri": "https://localhost:8080/",
          "height": 49
        },
        "id": "cjNKbaP6B1VU",
        "outputId": "6af9256b-e89f-4f41-863e-86cf785135e1"
      }
    },
    {
      "cell_type": "code",
      "execution_count": null,
      "source": [
        "#This will help us visualize which dates are the most common(Which dates had the most number of transactions)\n",
        "df['Date'].value_counts().sort_values().plot.line()\n",
        "\n"
      ],
      "outputs": [],
      "metadata": {
        "colab": {
          "base_uri": "https://localhost:8080/",
          "height": 282
        },
        "id": "KRX0__cY9Vap",
        "outputId": "0d52f320-c9dc-4daa-d7aa-6bf0829b0909"
      }
    },
    {
      "cell_type": "markdown",
      "source": [
        "#Using Resampleing method to aggregate my Month and year\n",
        "\n",
        "we can see see the total number of transactions by month, week, day had the highest number of transactions.\n"
      ],
      "metadata": {
        "id": "nwz3QpSl_6PW"
      }
    },
    {
      "cell_type": "code",
      "execution_count": null,
      "source": [
        "df['Date'].value_counts().resample('D').sum().plot.line()\n"
      ],
      "outputs": [],
      "metadata": {
        "colab": {
          "base_uri": "https://localhost:8080/",
          "height": 307
        },
        "id": "QP24hgcsBv2d",
        "outputId": "136462f8-88fb-47c6-9d40-1ecfbd448fea"
      }
    },
    {
      "cell_type": "code",
      "execution_count": null,
      "source": [
        "#highest number of transactions in one day\n",
        "max(df['Date'].value_counts().resample('D').sum())"
      ],
      "outputs": [],
      "metadata": {
        "colab": {
          "base_uri": "https://localhost:8080/"
        },
        "id": "ey8XGip6B00F",
        "outputId": "87cb02ff-de92-4a41-bcce-93d94d6f3994"
      }
    },
    {
      "cell_type": "code",
      "execution_count": null,
      "source": [
        "df.info()"
      ],
      "outputs": [],
      "metadata": {
        "colab": {
          "base_uri": "https://localhost:8080/"
        },
        "id": "SesVvAKaPTR1",
        "outputId": "dab1d9a7-3d3b-4db1-8b84-1be2aa897240"
      }
    },
    {
      "cell_type": "code",
      "execution_count": null,
      "source": [
        "min(df['Date'].value_counts().resample('D').sum())"
      ],
      "outputs": [],
      "metadata": {
        "colab": {
          "base_uri": "https://localhost:8080/"
        },
        "id": "vcMCFPQ5B6Ox",
        "outputId": "eecac5c5-39e9-447e-8593-33bf2a374dcb"
      }
    },
    {
      "cell_type": "code",
      "execution_count": null,
      "source": [
        "df['Date'].value_counts().resample('W').sum().plot.line()\n"
      ],
      "outputs": [],
      "metadata": {
        "colab": {
          "base_uri": "https://localhost:8080/",
          "height": 294
        },
        "id": "S6XqDI_B9Vdi",
        "outputId": "5708829a-2d31-4297-d680-48bdb5752e34"
      }
    },
    {
      "cell_type": "code",
      "execution_count": null,
      "source": [
        "df['Date'].value_counts().resample('SM').sum().plot.line()\n"
      ],
      "outputs": [],
      "metadata": {
        "colab": {
          "base_uri": "https://localhost:8080/",
          "height": 284
        },
        "id": "ZpVV2kzgBqZa",
        "outputId": "c805b2a1-98cf-4c71-df15-4df3a80a8359"
      }
    },
    {
      "cell_type": "code",
      "execution_count": null,
      "source": [
        "df['Date'].value_counts().resample('M').sum().plot.line()\n"
      ],
      "outputs": [],
      "metadata": {
        "colab": {
          "base_uri": "https://localhost:8080/",
          "height": 294
        },
        "id": "53fRBGCUALOR",
        "outputId": "4b423588-00b2-46f6-ffee-1f0f1dd98bb9"
      }
    },
    {
      "cell_type": "code",
      "execution_count": null,
      "source": [
        "df['Date'].value_counts().resample('SM').sum().plot.line()\n"
      ],
      "outputs": [],
      "metadata": {
        "colab": {
          "base_uri": "https://localhost:8080/",
          "height": 284
        },
        "id": "XYvuR_4pANOE",
        "outputId": "0f5f944f-ba10-4bc0-baff-fa10f2595b6e"
      }
    },
    {
      "cell_type": "markdown",
      "source": [
        "Using resampling to see Average price agregated by Day, month, week etc. \n"
      ],
      "metadata": {
        "id": "aQtX4KPpBMi6"
      }
    },
    {
      "cell_type": "code",
      "execution_count": null,
      "source": [
        "df.info()"
      ],
      "outputs": [],
      "metadata": {
        "colab": {
          "base_uri": "https://localhost:8080/"
        },
        "id": "4CNlwQSvQhW0",
        "outputId": "72535466-815f-4ec0-e918-702630ce73c9"
      }
    },
    {
      "cell_type": "code",
      "execution_count": null,
      "source": [
        "#getting the average price of houses by day\n",
        "df['Date'].resample('D').Price.plot.bar()\n"
      ],
      "outputs": [],
      "metadata": {
        "colab": {
          "base_uri": "https://localhost:8080/",
          "height": 324
        },
        "id": "byaCZYg99Vja",
        "outputId": "327dee17-9993-4c65-c0a6-5eb4e7067605"
      }
    },
    {
      "cell_type": "code",
      "execution_count": null,
      "source": [
        "#getting average prices of houses by week\n",
        "df['Date'].resample('W').Price.mean().plot.bar()\n"
      ],
      "outputs": [],
      "metadata": {
        "colab": {
          "base_uri": "https://localhost:8080/",
          "height": 324
        },
        "id": "JIyK9K4sLpp8",
        "outputId": "d01cc832-560b-44d3-a805-eb4e510233f6"
      }
    },
    {
      "cell_type": "code",
      "execution_count": null,
      "source": [
        "#getting average prices of houses my month\n",
        "df['Date'].resample('M').Price.mean().plot.bar()\n"
      ],
      "outputs": [],
      "metadata": {
        "colab": {
          "base_uri": "https://localhost:8080/",
          "height": 324
        },
        "id": "IBkk-OlSLpwc",
        "outputId": "e3c465cb-4db1-4104-d2bd-225c8a3ebd40"
      }
    },
    {
      "cell_type": "code",
      "execution_count": null,
      "source": [
        "#getting average prices of houses my SM\n",
        "df['Date'].resample('SM').Price.mean().plot.bar()\n"
      ],
      "outputs": [],
      "metadata": {
        "id": "weIoNkHXLpzf"
      }
    },
    {
      "cell_type": "markdown",
      "source": [
        "## Using resmapling to see the total sum of prices for the houses aggregated by Day, month, week, SM"
      ],
      "metadata": {
        "id": "fGpCMgqVL6-O"
      }
    },
    {
      "cell_type": "code",
      "execution_count": null,
      "source": [
        "#Using resampling to see the total sum of Price\n",
        "df['Date'].resample('D').Price.sum().plot.bar()\n"
      ],
      "outputs": [],
      "metadata": {
        "colab": {
          "base_uri": "https://localhost:8080/",
          "height": 324
        },
        "id": "mMcrhOtXXoez",
        "outputId": "135c1a5c-4937-4ebf-9ca3-2c1181c7651d"
      }
    },
    {
      "cell_type": "code",
      "execution_count": null,
      "source": [
        "df['Date'].resample('W').Price.sum().plot.bar()\n"
      ],
      "outputs": [],
      "metadata": {
        "id": "z5eHD4ksMHYH"
      }
    },
    {
      "cell_type": "code",
      "execution_count": null,
      "source": [
        "df['Date'].resample('M').Price.sum().plot.bar()\n"
      ],
      "outputs": [],
      "metadata": {
        "id": "tAoHkAuFMHcE"
      }
    },
    {
      "cell_type": "code",
      "execution_count": null,
      "source": [
        "df['Date'].resample('SM').Price.sum().plot.bar()\n"
      ],
      "outputs": [],
      "metadata": {
        "id": "jFwJMiLdMHeq"
      }
    },
    {
      "cell_type": "markdown",
      "source": [
        "Using resampling to see the mean distance aggregated by day, week, month\n"
      ],
      "metadata": {
        "id": "UgP1pGtqMRu-"
      }
    },
    {
      "cell_type": "code",
      "execution_count": null,
      "source": [
        "\n",
        "# #By calendar day\n",
        "# df['Date'].resample('D').Distance.mean().plot.bar()\n",
        "\n",
        "# #By calendar week()\n",
        "# df['Date'].resample('W').Distance.mean().plot.bar()\n",
        "\n",
        "# #By calendar Month\n",
        "# df['Date'].resample('M').Distance.mean().plot.bar()\n",
        "\n",
        "\n",
        "# #By calendar Quarter\n",
        "# df['Date'].resample('Q').Distance.mean().plot.bar()\n",
        "\n",
        "\n",
        "\n",
        "\n"
      ],
      "outputs": [],
      "metadata": {
        "colab": {
          "base_uri": "https://localhost:8080/",
          "height": 375
        },
        "id": "8ZSTQ26oS1Zk",
        "outputId": "982c2ac3-6ae3-4968-dae5-db6dfead2aaf"
      }
    },
    {
      "cell_type": "markdown",
      "source": [
        "Exploratory Data analysis Agrregating on Data"
      ],
      "metadata": {
        "id": "SzaqUMRnhxNd"
      }
    },
    {
      "cell_type": "code",
      "execution_count": null,
      "source": [
        "df_no_dups['Date']= pd.to_datetime(df_no_dups['Date'],dayfirst=True)"
      ],
      "outputs": [],
      "metadata": {
        "id": "dohCJB_piYaP"
      }
    },
    {
      "cell_type": "code",
      "execution_count": null,
      "source": [
        "# Grouping the Type features by Date\n",
        "var = df_no_dups[df_no_dups['Type']=='h'].sort_values('Date',ascending=False).groupby('Date').std()\n",
        "count = df_no_dups[df_no_dups['Type']=='h'].sort_values('Date',ascending=False).groupby('Date').count()\n",
        "mean = df_no_dups[df_no_dups['Type']=='h'].sort_values('Date',ascending=False).groupby('Date').mean()"
      ],
      "outputs": [],
      "metadata": {
        "id": "lT5sK131hwJj"
      }
    },
    {
      "cell_type": "code",
      "execution_count": null,
      "source": [
        "var"
      ],
      "outputs": [],
      "metadata": {
        "id": "rQEXm8xzlidP"
      }
    },
    {
      "cell_type": "code",
      "execution_count": null,
      "source": [
        "count"
      ],
      "outputs": [],
      "metadata": {
        "id": "amgZMrtfljUq"
      }
    },
    {
      "cell_type": "code",
      "execution_count": null,
      "source": [
        "mean"
      ],
      "outputs": [],
      "metadata": {
        "id": "6amr0HnOlj8D"
      }
    },
    {
      "cell_type": "code",
      "execution_count": null,
      "source": [
        "# Average Price marked by varaince by comparing with different date or time when the houses were sold\n",
        "mean[\"Price\"].plot(yerr=var[\"Price\"],ylim=(400000,1500000))"
      ],
      "outputs": [],
      "metadata": {
        "id": "XX90jBwRmAvF"
      }
    },
    {
      "cell_type": "code",
      "execution_count": null,
      "source": [
        "# Plotting average Landsize marked by variance in price\n",
        "mean[\"Propertycount\"].plot(yerr=var[\"Price\"])"
      ],
      "outputs": [],
      "metadata": {
        "id": "sT0SJhW7mAxp"
      }
    },
    {
      "cell_type": "code",
      "execution_count": null,
      "source": [
        "#Explore Region Name against other variables\n",
        "#Group all the features by Regionname for the houses of type h and Distance less than 14 kms from CBD.\n",
        "feature_region_mean= df_no_dups[(df_no_dups['Type']=='h')&(df_no_dups['Distance']<14)].sort_values('Date',ascending=False).dropna().groupby('Regionname').mean()\n",
        "feature_region_std= df_no_dups[(df_no_dups['Type']=='h')&(df_no_dups['Distance']<14)].sort_values('Date',ascending=False).dropna().groupby('Regionname').std()"
      ],
      "outputs": [],
      "metadata": {
        "id": "DwQ5tsLNmA0G"
      }
    },
    {
      "cell_type": "code",
      "execution_count": null,
      "source": [
        "# Plotting the avregae price of house sold by Regionname\n",
        "feature_region_mean['Price'].plot(kind='bar',figsize =(15,8))"
      ],
      "outputs": [],
      "metadata": {
        "id": "DDdBadwRmA2r"
      }
    },
    {
      "cell_type": "code",
      "execution_count": null,
      "source": [
        "feature_region_mean['Rooms'].plot(kind='bar',figsize =(15,8))"
      ],
      "outputs": [],
      "metadata": {
        "id": "k3eHISH2mA6q"
      }
    },
    {
      "cell_type": "code",
      "execution_count": null,
      "source": [
        "feature_region_mean['Propertycount'].plot(kind='bar',figsize =(15,8))"
      ],
      "outputs": [],
      "metadata": {
        "id": "HvITZjUqmA74"
      }
    },
    {
      "cell_type": "code",
      "execution_count": null,
      "source": [
        "# Looking at the average price range in suburb for houses sold in Southern Metropolitan\n",
        "feature_SouthernM = df_no_dups[(df_no_dups['Regionname']=='Southern Metropolitan')& \n",
        "                               (df_no_dups['Type']=='h') & \n",
        "                                (df_no_dups['Distance']<=14)].sort_values('Date',ascending=False).groupby('Suburb').mean()"
      ],
      "outputs": [],
      "metadata": {
        "id": "X5Bl8676qZGV"
      }
    },
    {
      "cell_type": "code",
      "execution_count": null,
      "source": [
        "feature_SouthernM['Price'].plot(kind='bar',figsize=(20,10))\n"
      ],
      "outputs": [],
      "metadata": {
        "id": "qPfMJ7BaqZI8"
      }
    },
    {
      "cell_type": "code",
      "execution_count": null,
      "source": [
        "#Analyzing Average no. of rooms and Distance for each of the Suburb in Southern Metropolitan Region\n",
        "feature_South_Suburb = df_no_dups[(df_no_dups['Regionname']=='Southern Metropolitan')& \n",
        "                               (df_no_dups['Type']=='h') & \n",
        "                                (df_no_dups['Distance']<=14)].sort_values('Date',ascending=False).groupby('Suburb').agg({'Rooms':'median','Distance':'mean'})"
      ],
      "outputs": [],
      "metadata": {
        "id": "jDn8A4WtqZLy"
      }
    },
    {
      "cell_type": "code",
      "execution_count": null,
      "source": [
        "feature_South_Suburb\n"
      ],
      "outputs": [],
      "metadata": {
        "id": "HzOE4PbuqZPW"
      }
    },
    {
      "cell_type": "code",
      "execution_count": null,
      "source": [
        "#Analyzing Average no. of rooms and Distance for each of the Suburb in Western Metropolitan Region\n",
        "feature_West_Suburb = df_no_dups[(df_no_dups['Regionname']=='Western Metropolitan')& \n",
        "                               (df_no_dups['Type']=='h') & \n",
        "                                (df_no_dups['Distance']<=14)].sort_values('Date',ascending=False).groupby('Suburb').agg({'Rooms':'median','Distance':'mean'})"
      ],
      "outputs": [],
      "metadata": {
        "id": "WZF2eooyrtDl"
      }
    },
    {
      "cell_type": "code",
      "execution_count": null,
      "source": [
        "feature_West_Suburb"
      ],
      "outputs": [],
      "metadata": {
        "id": "pWSh0ndVrtGF"
      }
    },
    {
      "cell_type": "markdown",
      "source": [
        "#Plotting distribution of categorical columns and price"
      ],
      "metadata": {
        "id": "rAo7TMxGToV9"
      }
    },
    {
      "cell_type": "code",
      "execution_count": null,
      "source": [
        "\n",
        "#Plotting the region name and price\n",
        "plt.figure(figsize=(12,6))\n",
        "sns.boxplot('Regionname', 'Price', data=df, width=0.3, palette=\"Set2\")\n",
        "plt.xticks(rotation=45)\n",
        "df['Regionname'].value_counts()"
      ],
      "outputs": [],
      "metadata": {
        "id": "S7V2Vit9TjRU",
        "colab": {
          "base_uri": "https://localhost:8080/",
          "height": 703
        },
        "outputId": "7e71c8fc-493f-41db-a74a-4bc4c7ecc005"
      }
    },
    {
      "cell_type": "code",
      "execution_count": null,
      "source": [
        "#Plotting the CouncilArea and price\n",
        "plt.figure(figsize=(12,6))\n",
        "sns.boxplot('CouncilArea', 'Price', data=df, width=0.3, palette=\"Set2\")\n",
        "plt.xticks(rotation=45)\n",
        "df['CouncilArea'].value_counts()"
      ],
      "outputs": [],
      "metadata": {
        "id": "rFEObS9BVwd6",
        "colab": {
          "base_uri": "https://localhost:8080/",
          "height": 1000
        },
        "outputId": "4f09457d-48d3-4d07-d25a-0e80b20807c6"
      }
    },
    {
      "cell_type": "code",
      "execution_count": null,
      "source": [
        "#Plotting the CouncilArea and price\n",
        "plt.figure(figsize=(12,6))\n",
        "sns.boxplot('CouncilArea', 'Price', data=df, width=0.3, palette=\"Set2\")\n",
        "plt.xticks(rotation=45)\n",
        "df['CouncilArea'].value_counts()"
      ],
      "outputs": [],
      "metadata": {
        "id": "1ejAeNLoV8R0",
        "colab": {
          "base_uri": "https://localhost:8080/",
          "height": 1000
        },
        "outputId": "868b6b5b-6548-4de5-8ae0-e888ca562811"
      }
    },
    {
      "cell_type": "code",
      "execution_count": null,
      "source": [
        "#Type and price\n",
        "plt.figure(figsize=(10,5))\n",
        "sns.boxplot('Type', 'Price', data=df, width=0.3, palette=\"Set2\")\n",
        "df['Type'].value_counts()"
      ],
      "outputs": [],
      "metadata": {
        "id": "egBabA1VWKe7",
        "colab": {
          "base_uri": "https://localhost:8080/",
          "height": 470
        },
        "outputId": "a7e9ea2c-2e19-4b4a-e360-a587afa1b7a3"
      }
    },
    {
      "cell_type": "code",
      "execution_count": null,
      "source": [
        "#Suburb vs price\n",
        "plt.figure(figsize=(10,5))\n",
        "sns.boxplot('Suburb', 'Price', data=df, width=0.3, palette=\"Set2\")\n",
        "df['Suburb'].value_counts()"
      ],
      "outputs": [],
      "metadata": {
        "id": "R56HdhnLW7x4",
        "colab": {
          "base_uri": "https://localhost:8080/",
          "height": 606
        },
        "outputId": "aa045e2d-b5ef-46d4-b2ef-c796f3a74543"
      }
    },
    {
      "cell_type": "markdown",
      "source": [
        "Boxplots/subplots"
      ],
      "metadata": {
        "id": "TwiDDfuzjHnp"
      }
    },
    {
      "cell_type": "code",
      "execution_count": null,
      "source": [
        "# #exploring the type variable  and house prices\n",
        "# fig, ax = plt.subplots()\n",
        "# ax.hist(df[df[\"Type\"]=='h'][\"Price\"], bins=15, alpha=0.5, color=\"blue\", label=\"survived\")\n",
        "# ax.hist(df[df[\"Type\"]=='u'][\"Price\"], bins=15, alpha=0.5, color=\"green\", label=\"did not survive\")\n",
        "# ax.hist(df[df[\"Type\"]=='t'][\"Price\"], bins=15, alpha=0.5, color=\"red\", label=\"did not survive\")\n",
        "\n",
        "\n",
        "# ax.set_xlabel(\"Count of house Type\")\n",
        "# ax.set_ylabel(\"Price\")\n",
        "\n",
        "# fig.suptitle(\"House Type vs Price\")\n",
        "\n",
        "# ax.legend();"
      ],
      "outputs": [],
      "metadata": {
        "id": "Gld662r6jJ1J"
      }
    },
    {
      "cell_type": "code",
      "execution_count": null,
      "source": [
        "# import seaborn as sns\n",
        "\n",
        "# #\n",
        "# sns.boxplot(data = df, x='Price', y='Price')"
      ],
      "outputs": [],
      "metadata": {
        "id": "eJe_UjFgfQQh",
        "colab": {
          "base_uri": "https://localhost:8080/",
          "height": 589
        },
        "outputId": "53209c98-6f30-4793-c67d-63bc22d964de"
      }
    },
    {
      "cell_type": "code",
      "execution_count": null,
      "source": [
        "# #CHANGE ALL THE VARIABLES \n",
        "\n",
        "# fig = plt.figure(figsize = (15,10))\n",
        "\n",
        "# ax1 = fig.add_subplot(2,3,1)\n",
        "# sns.countplot(data = ds_cat, x = '', ax=ax1)\n",
        "\n",
        "# ax2 = fig.add_subplot(2,3,2)\n",
        "# sns.countplot(data = ds_cat, x = 'LotShape', ax=ax2)\n",
        "\n",
        "# ax3 = fig.add_subplot(2,3,3)\n",
        "# sns.countplot(data = ds_cat, x = 'LotConfig', ax=ax3)\n",
        "\n",
        "# ax4 = fig.add_subplot(2,3,4)\n",
        "# sns.boxplot(data = ds_cat, x = 'MSZoning', y = 'SalePrice' , ax=ax4)\n",
        "# #sns.violinplot(data = ds_cat, x = 'MSZoning', y = 'SalePrice' , ax=ax4)\n",
        "# #sns.swarmplot(data = ds_cat, x = 'MSZoning', y='SalePrice', color = 'k', alpha = 0.4, ax=ax4  )\n",
        "\n",
        "# ax5 = fig.add_subplot(2,3,5)\n",
        "# sns.boxplot(data = ds_cat, x = 'LotShape', y = 'SalePrice', ax=ax5)\n",
        "# #sns.violinplot(data = ds_cat, x = 'LotShape', y = 'SalePrice', ax=ax5)\n",
        "# #sns.swarmplot(data = ds_cat, x = 'LotShape', y='SalePrice', color = 'k', alpha = 0.4, ax=ax5  )\n",
        "\n",
        "# ax6 = fig.add_subplot(2,3,6)\n",
        "# sns.boxplot(data = ds_cat, x = 'LotConfig', y = 'SalePrice', ax=ax6)\n",
        "# #sns.violinplot(data = ds_cat, x = 'LotConfig', y = 'SalePrice', ax=ax6)\n",
        "# #sns.swarmplot(data = ds_cat, x = 'LotConfig', y='SalePrice', color = 'k', alpha = 0.4, ax=ax6  )"
      ],
      "outputs": [],
      "metadata": {
        "id": "XWdE_fdtgKCc"
      }
    },
    {
      "cell_type": "markdown",
      "source": [
        "# `Label Enconding using dummies variable"
      ],
      "metadata": {
        "id": "nwWax6CBzGEI"
      }
    },
    {
      "cell_type": "code",
      "execution_count": null,
      "source": [
        "# we can use below varibel for standaraized purpose\n",
        "\n",
        "# Distance , Landsize, Lattitude , Longtitude\n",
        "\n"
      ],
      "outputs": [],
      "metadata": {
        "id": "4e7DX1mNzCG9"
      }
    },
    {
      "cell_type": "code",
      "execution_count": null,
      "source": [
        "# Convertig Object columns to dummies\n",
        "#too many different suburbs so we are not including that into our linear regression model(difficult for encoding)\n",
        "df_dummies = pd.get_dummies(df[['Type','Method','CouncilArea','Regionname']])\n"
      ],
      "outputs": [],
      "metadata": {
        "id": "NJNbkOsV0mfd"
      }
    },
    {
      "cell_type": "code",
      "execution_count": null,
      "source": [
        "df_dummies"
      ],
      "outputs": [],
      "metadata": {
        "colab": {
          "base_uri": "https://localhost:8080/",
          "height": 473
        },
        "id": "CRK7U2i4EI_u",
        "outputId": "ac323be3-b41e-4fdb-dd46-5fe5b4a531f5"
      }
    },
    {
      "cell_type": "code",
      "execution_count": null,
      "source": [
        "#converting the df_dummies variables to numeric"
      ],
      "outputs": [],
      "metadata": {
        "id": "VsCuxAPbE0_S"
      }
    },
    {
      "cell_type": "code",
      "execution_count": null,
      "source": [
        "df_dummies.astype('int64')"
      ],
      "outputs": [],
      "metadata": {
        "colab": {
          "base_uri": "https://localhost:8080/",
          "height": 473
        },
        "id": "M9ichKDwE44y",
        "outputId": "f71177d7-71e9-45d6-d11d-c1f882856eed"
      }
    },
    {
      "cell_type": "code",
      "execution_count": null,
      "source": [
        "df_dummies.info()"
      ],
      "outputs": [],
      "metadata": {
        "colab": {
          "base_uri": "https://localhost:8080/"
        },
        "id": "0YQBZtL2E-_6",
        "outputId": "bc050355-3f4d-44c1-d840-68b531608317"
      }
    },
    {
      "cell_type": "code",
      "execution_count": null,
      "source": [
        "df.columns\n"
      ],
      "outputs": [],
      "metadata": {
        "id": "PaQd4bSw0mko",
        "colab": {
          "base_uri": "https://localhost:8080/"
        },
        "outputId": "84d12792-8182-4cd7-d862-b08f259dd3a4"
      }
    },
    {
      "cell_type": "code",
      "execution_count": null,
      "source": [
        "#Dropping the old columns which have been converted to dummies and creating a new dataframe\n",
        "df.drop(['Suburb','Type','Method','CouncilArea','Regionname'],axis=1,inplace=True)\n",
        "df=df.join(df_dummies)"
      ],
      "outputs": [],
      "metadata": {
        "id": "GkTjH-EBuy6k"
      }
    },
    {
      "cell_type": "code",
      "execution_count": null,
      "source": [
        "df.head(5)\n"
      ],
      "outputs": [],
      "metadata": {
        "id": "sflu2GTsLUOE",
        "colab": {
          "base_uri": "https://localhost:8080/",
          "height": 343
        },
        "outputId": "dcbb984b-5e4c-4fba-a79c-df521c2ccf71"
      }
    },
    {
      "cell_type": "markdown",
      "source": [
        "# Splitting the data into train and test dataset "
      ],
      "metadata": {
        "id": "ZUOzr4fGp8xH"
      }
    },
    {
      "cell_type": "markdown",
      "source": [
        "We should perform feature normalisation over the training data. Then perform normalisation on testing instances as well, but this time using the mean and variance of training explanatory variables. In this way, we can test and evaluate whether our model can generalize well to new, unseen data points."
      ],
      "metadata": {
        "id": "QgO7IMjHqInx"
      }
    },
    {
      "cell_type": "code",
      "execution_count": null,
      "source": [
        "from sklearn.model_selection import train_test_split\n",
        "\n"
      ],
      "outputs": [],
      "metadata": {
        "id": "i0I9cVBxqEkQ"
      }
    },
    {
      "cell_type": "code",
      "execution_count": null,
      "source": [
        "# We specify this so that the train and test data set always have the same rows, respectively\n",
        "np.random.seed(0)\n",
        "df_train, df_test = train_test_split(df, test_size = 0.2, random_state = 42)"
      ],
      "outputs": [],
      "metadata": {
        "id": "iYqtsepCqK8N"
      }
    },
    {
      "cell_type": "code",
      "execution_count": null,
      "source": [
        "df_train.shape[0]"
      ],
      "outputs": [],
      "metadata": {
        "id": "iKi0QdHGqK-t",
        "colab": {
          "base_uri": "https://localhost:8080/"
        },
        "outputId": "d706e122-c011-4ec0-aa87-1632291e1fa7"
      }
    },
    {
      "cell_type": "code",
      "execution_count": null,
      "source": [
        "df_test.shape[0]"
      ],
      "outputs": [],
      "metadata": {
        "id": "a2OvejuvqccD",
        "colab": {
          "base_uri": "https://localhost:8080/"
        },
        "outputId": "51415756-13f2-4321-a906-db32b9460210"
      }
    },
    {
      "cell_type": "code",
      "execution_count": null,
      "source": [
        "df_test.head()"
      ],
      "outputs": [],
      "metadata": {
        "colab": {
          "base_uri": "https://localhost:8080/",
          "height": 343
        },
        "id": "WHHoHASeKImV",
        "outputId": "8cdf0ce8-0c2b-43f0-a583-fb3017b379f4"
      }
    },
    {
      "cell_type": "code",
      "execution_count": null,
      "source": [
        "df_train.head()"
      ],
      "outputs": [],
      "metadata": {
        "colab": {
          "base_uri": "https://localhost:8080/",
          "height": 343
        },
        "id": "PXoTlA_HKNxn",
        "outputId": "a4928347-4065-4d92-aa99-f5ae4ef95f66"
      }
    },
    {
      "cell_type": "markdown",
      "source": [
        "# Standardize the numerical variables"
      ],
      "metadata": {
        "id": "P7tl56fmettA"
      }
    },
    {
      "cell_type": "markdown",
      "source": [
        "Standardize the variables and then calculate correlation again to see if we have better correlations with the predictor featires and the target variable"
      ],
      "metadata": {
        "id": "D5x5W76ofm9U"
      }
    },
    {
      "cell_type": "code",
      "execution_count": null,
      "source": [
        "from sklearn.preprocessing import MinMaxScaler\n"
      ],
      "outputs": [],
      "metadata": {
        "id": "vGyFQCIxmMVf"
      }
    },
    {
      "cell_type": "code",
      "execution_count": null,
      "source": [
        "scaler = MinMaxScaler()\n"
      ],
      "outputs": [],
      "metadata": {
        "id": "ZndB71Efmbrf"
      }
    },
    {
      "cell_type": "markdown",
      "source": [
        "We do not standardize labels that we created from label encoding. Apply standard scaler to all the other numerical variables that were not label encoded and we need to scale the target variable as well. "
      ],
      "metadata": {
        "id": "Zr_r36cqm2V0"
      }
    },
    {
      "cell_type": "code",
      "execution_count": null,
      "source": [
        "# Apply scaler() to all the columns except the 'yes-no' and 'dummy' variables\n",
        "num_vars = ['Rooms', 'Price' , 'Propertycount', 'Distance']\n",
        "\n",
        "df_train[num_vars] = scaler.fit_transform(df_train[num_vars])"
      ],
      "outputs": [],
      "metadata": {
        "id": "BCPH0pMjmbuC",
        "colab": {
          "base_uri": "https://localhost:8080/"
        },
        "outputId": "f5d5051f-2d7f-4689-d13f-f91338e55108"
      }
    },
    {
      "cell_type": "code",
      "execution_count": null,
      "source": [
        "df_train.head()\n"
      ],
      "outputs": [],
      "metadata": {
        "id": "AJiR1QdBmbwH",
        "colab": {
          "base_uri": "https://localhost:8080/",
          "height": 343
        },
        "outputId": "1568cab9-5c8e-4376-b621-24f41eb0731f"
      }
    },
    {
      "cell_type": "code",
      "execution_count": null,
      "source": [
        "df_train.describe()\n"
      ],
      "outputs": [],
      "metadata": {
        "id": "1S488lGJrOn_",
        "colab": {
          "base_uri": "https://localhost:8080/",
          "height": 351
        },
        "outputId": "dd1284fa-57eb-4795-c359-443657696595"
      }
    },
    {
      "cell_type": "code",
      "execution_count": null,
      "source": [
        "# Let's check the correlation coefficients to see which variables are highly correlated\n",
        "\n",
        "# plt.figure(figsize = (16, 10))\n",
        "# sns.heatmap(df_train.corr(), annot = True, cmap=\"YlGnBu\")\n",
        "# plt.show()"
      ],
      "outputs": [],
      "metadata": {
        "id": "dxTPF1iPrkkr",
        "colab": {
          "base_uri": "https://localhost:8080/",
          "height": 595
        },
        "outputId": "f5a616e9-06b5-4e4f-a3a4-0457a90b88a7"
      }
    },
    {
      "cell_type": "markdown",
      "source": [
        "# Model Building"
      ],
      "metadata": {
        "id": "EM8VSrqqr1gW"
      }
    },
    {
      "cell_type": "markdown",
      "source": [
        "AFTER Running the linear regression model get rid of variables with very low correlation to the price and run the model again to see if we get better results"
      ],
      "metadata": {
        "id": "rB1g-b4vurfx"
      }
    },
    {
      "cell_type": "code",
      "execution_count": null,
      "source": [
        "# RFE -Removing features of low importance can improve accuracy, and reduce both model complexity and overfitting. "
      ],
      "outputs": [],
      "metadata": {
        "id": "t9nUdlyJtYQc"
      }
    },
    {
      "cell_type": "code",
      "execution_count": null,
      "source": [
        "#splitting the training dataset into target and predictors(x and y)\n",
        "y_train = df_train.pop('Price') #pop selects that varirable \n",
        "X_train = df_train"
      ],
      "outputs": [],
      "metadata": {
        "id": "l-6OAV_Puzgi",
        "colab": {
          "base_uri": "https://localhost:8080/",
          "height": 562
        },
        "outputId": "2c73a094-e5b9-4a0f-8a70-e1914f07b585"
      }
    },
    {
      "cell_type": "code",
      "execution_count": null,
      "source": [
        "# Importing RFE and LinearRegression\n",
        "from sklearn.feature_selection import RFE\n",
        "from sklearn.linear_model import LinearRegression"
      ],
      "outputs": [],
      "metadata": {
        "id": "nPO8ss9iuzps"
      }
    },
    {
      "cell_type": "code",
      "execution_count": null,
      "source": [
        "#Creating a linear regression object and passing in the training data for it\n",
        "lm = LinearRegression()\n",
        "lm.fit(X_train, y_train)"
      ],
      "outputs": [],
      "metadata": {
        "id": "KfVlUtKosBS6",
        "colab": {
          "base_uri": "https://localhost:8080/",
          "height": 375
        },
        "outputId": "56021718-2668-4c5d-ad44-582bd1c15b00"
      }
    },
    {
      "cell_type": "code",
      "execution_count": null,
      "source": [
        "#implementing RFE(Recursive feature eleimination)\n",
        "# Running RFE with the output number of the variable equal to 10\n",
        "\n",
        "rfe = RFE(lm, 6)             # running RFE\n",
        "rfe = rfe.fit(X_train, y_train)"
      ],
      "outputs": [],
      "metadata": {
        "id": "M8hyWOWAsUxk"
      }
    },
    {
      "cell_type": "code",
      "execution_count": null,
      "source": [
        "list(zip(X_train.columns,rfe.support_,rfe.ranking_))\n"
      ],
      "outputs": [],
      "metadata": {
        "id": "ZByIHNv2sU0M"
      }
    },
    {
      "cell_type": "code",
      "execution_count": null,
      "source": [
        "col = X_train.columns[rfe.support_]\n",
        "col"
      ],
      "outputs": [],
      "metadata": {
        "id": "837kjx03sU3n"
      }
    },
    {
      "cell_type": "code",
      "execution_count": null,
      "source": [
        "X_train.columns[~rfe.support_]\n"
      ],
      "outputs": [],
      "metadata": {
        "id": "nSkXu55AsU56"
      }
    },
    {
      "cell_type": "markdown",
      "source": [
        "\n",
        "# Building model using statsmodel, for the detailed statistics¶"
      ],
      "metadata": {
        "id": "8u2SHZ_RuVdG"
      }
    },
    {
      "cell_type": "code",
      "execution_count": null,
      "source": [
        "# Creating X_test dataframe with RFE selected variables\n",
        "X_train_rfe = X_train[col]"
      ],
      "outputs": [],
      "metadata": {
        "id": "_KAudlENsU9V"
      }
    },
    {
      "cell_type": "code",
      "execution_count": null,
      "source": [
        "# Adding a constant variable \n",
        "import statsmodels.api as sm  \n",
        "X_train_rfe = sm.add_constant(X_train_rfe)"
      ],
      "outputs": [],
      "metadata": {
        "id": "_FJPSNaxsU_i"
      }
    },
    {
      "cell_type": "code",
      "execution_count": null,
      "source": [
        "lm = sm.OLS(y_train,X_train_rfe).fit()   # Running the linear model\n"
      ],
      "outputs": [],
      "metadata": {
        "id": "QhQnuUXXsVBo"
      }
    },
    {
      "cell_type": "code",
      "execution_count": null,
      "source": [
        "#Let's see the summary of our linear model\n",
        "#this will print out statistical measure such as \n",
        "print(lm.summary())"
      ],
      "outputs": [],
      "metadata": {
        "id": "Mfy5pWK3sVDR"
      }
    },
    {
      "cell_type": "markdown",
      "source": [
        "#RESIDUAL ANALYSIS"
      ],
      "metadata": {
        "id": "3onM2nNeGArO"
      }
    },
    {
      "cell_type": "markdown",
      "source": [
        "#We need to standardize the test data as well to be able to compare it to the preddicted values from the training data"
      ],
      "metadata": {
        "id": "rFwAGhv8GJ7w"
      }
    },
    {
      "cell_type": "code",
      "execution_count": null,
      "source": [
        "from sklearn.preprocessing import MinMaxScaler\n",
        "\n",
        "scaler = MinMaxScaler()"
      ],
      "outputs": [],
      "metadata": {
        "id": "fRf4hhRTI_Es"
      }
    },
    {
      "cell_type": "code",
      "execution_count": null,
      "source": [
        "# Apply scaler() to all the columns except the 'yes-no' and 'dummy' variables\n",
        "num_vars = ['Rooms', 'Price', 'Propertycount', 'Distance']\n",
        "\n",
        "df_test[num_vars] = scaler.fit_transform(df_test[num_vars])"
      ],
      "outputs": [],
      "metadata": {
        "colab": {
          "base_uri": "https://localhost:8080/"
        },
        "id": "Y7NZR7yEI_sd",
        "outputId": "17c47792-8826-4047-f87f-d69a6ef4545a"
      }
    },
    {
      "cell_type": "code",
      "execution_count": null,
      "source": [
        "df_test.head()"
      ],
      "outputs": [],
      "metadata": {
        "colab": {
          "base_uri": "https://localhost:8080/",
          "height": 377
        },
        "id": "26XPD2lGI_u_",
        "outputId": "42ed539d-41ed-44e4-c80c-020c8767faca"
      }
    },
    {
      "cell_type": "markdown",
      "source": [
        "#RESIDUALS"
      ],
      "metadata": {
        "id": "7NzwOCCUJCCB"
      }
    },
    {
      "cell_type": "code",
      "execution_count": null,
      "source": [
        "#So, now to check if the error terms are also normally distributed (which is infact, one of the major assumptions of linear regression), let us plot the histogram of the error terms and see what it looks like."
      ],
      "outputs": [],
      "metadata": {
        "id": "Zc6yHyqVyPcJ"
      }
    },
    {
      "cell_type": "code",
      "execution_count": null,
      "source": [
        "y_train_price = lm.predict(X_train_rfe)\n"
      ],
      "outputs": [],
      "metadata": {
        "colab": {
          "base_uri": "https://localhost:8080/",
          "height": 164
        },
        "id": "U26UEtX5yPfX",
        "outputId": "da51f55a-ab8d-44e7-eddf-6f8f4aa97a8a"
      }
    },
    {
      "cell_type": "code",
      "execution_count": null,
      "source": [
        "res = (y_train_price - y_train)\n"
      ],
      "outputs": [],
      "metadata": {
        "id": "hCUxpMQqyPhx"
      }
    },
    {
      "cell_type": "code",
      "execution_count": null,
      "source": [
        "# Importing the required libraries for plots.\n",
        "import matplotlib.pyplot as plt\n",
        "import seaborn as sns\n",
        "%matplotlib inline\n"
      ],
      "outputs": [],
      "metadata": {
        "id": "iLbpcAVwyPnm"
      }
    },
    {
      "cell_type": "code",
      "execution_count": null,
      "source": [
        "# Plot the histogram of the error terms\n",
        "fig = plt.figure()\n",
        "sns.distplot((y_train - y_train_price), bins = 20)\n",
        "fig.suptitle('Error Terms', fontsize = 20)                  # Plot heading \n",
        "plt.xlabel('Errors', fontsize = 18)  "
      ],
      "outputs": [],
      "metadata": {
        "id": "bRxhuBLHyi0T"
      }
    },
    {
      "cell_type": "code",
      "execution_count": null,
      "source": [
        "plt.scatter(y_train,res)\n",
        "plt.show()"
      ],
      "outputs": [],
      "metadata": {
        "id": "Ox9C9phCyi3-"
      }
    },
    {
      "cell_type": "markdown",
      "source": [
        "Here we check to see if the residual values have a normal distribution"
      ],
      "metadata": {
        "id": "mPofOxarJliC"
      }
    },
    {
      "cell_type": "markdown",
      "source": [
        "# Model Evaluation¶\n"
      ],
      "metadata": {
        "id": "Ddu46B770uS8"
      }
    },
    {
      "cell_type": "markdown",
      "source": [
        "We need to first scale the test data before doing model evaluation "
      ],
      "metadata": {
        "id": "AN9807040z9W"
      }
    },
    {
      "cell_type": "code",
      "execution_count": null,
      "source": [
        "# Apply scaler() to all the columns except the 'yes-no' and 'dummy' variables\n",
        "num_vars = ['Rooms', 'Price', 'Propertycount', 'Distance']\n",
        "\n"
      ],
      "outputs": [],
      "metadata": {
        "id": "Spwpr43m0wPA"
      }
    },
    {
      "cell_type": "code",
      "execution_count": null,
      "source": [
        "df_test[num_vars] = scaler.fit_transform(df_test[num_vars])"
      ],
      "outputs": [],
      "metadata": {
        "id": "Wceq34ZE0wXo"
      }
    },
    {
      "cell_type": "code",
      "execution_count": null,
      "source": [
        "#Dividing the data into y(target) and x(predictor variables)\n",
        "y_test = df_test.pop('price')\n",
        "X_test = df_test"
      ],
      "outputs": [],
      "metadata": {
        "id": "n5dmDQVU1Grv"
      }
    },
    {
      "cell_type": "code",
      "execution_count": null,
      "source": [
        "# Now let's use our model to make predictions.\n",
        "# Creating X_test_new dataframe by dropping variables from X_test\n",
        "X_test_rfe = X_test[X_train_rfe.columns]"
      ],
      "outputs": [],
      "metadata": {
        "id": "DxzmHbBJ1Gub"
      }
    },
    {
      "cell_type": "code",
      "execution_count": null,
      "source": [
        "# Making predictions\n",
        "y_pred = lm.predict(X_test_rfe)"
      ],
      "outputs": [],
      "metadata": {
        "id": "sQnPNw831Gw4"
      }
    },
    {
      "cell_type": "code",
      "execution_count": null,
      "source": [
        "from sklearn.metrics import r2_score \n",
        "r2_score(y_test, y_pred)"
      ],
      "outputs": [],
      "metadata": {
        "id": "SspUk12P17xY"
      }
    },
    {
      "cell_type": "code",
      "execution_count": null,
      "source": [
        "# Plotting y_test and y_pred to understand the spread.\n",
        "fig = plt.figure()\n",
        "plt.scatter(y_test,y_pred)\n",
        "fig.suptitle('y_test vs y_pred', fontsize=20)              # Plot heading \n",
        "plt.xlabel('y_test', fontsize=18)                          # X-label\n",
        "plt.ylabel('y_pred', fontsize=16)                          # Y-label"
      ],
      "outputs": [],
      "metadata": {
        "id": "PmG8frOS17z2"
      }
    },
    {
      "cell_type": "code",
      "execution_count": null,
      "source": [],
      "outputs": [],
      "metadata": {
        "id": "louiQumJ172o"
      }
    },
    {
      "cell_type": "markdown",
      "source": [
        "# Using Backwards elimination on our linear regression model"
      ],
      "metadata": {
        "id": "dZiTY-6B71YX"
      }
    },
    {
      "cell_type": "markdown",
      "source": [
        "We use backwards elminiation to help give us a good idea of the best predictor variables to include in our dataset."
      ],
      "metadata": {
        "id": "50NRro3S8J38"
      }
    },
    {
      "cell_type": "code",
      "execution_count": null,
      "source": [
        "x_train, x_test, y_train, y_test = train_test_split(\n",
        "        x, y, test_size = 0.3, random_state = 0)\n",
        "from sklearn.linear_model import LinearRegression\n",
        "lm = LinearRegression()\n",
        "lm.fit(x_train, y_train)\n",
        "pred = lm.predict(x_test)"
      ],
      "outputs": [],
      "metadata": {
        "id": "tD5eOVW36BvS"
      }
    },
    {
      "cell_type": "code",
      "execution_count": null,
      "source": [
        "#predicting the test set\n",
        "y_pred = lm.predict(x_test)"
      ],
      "outputs": [],
      "metadata": {
        "id": "ci0sT7Vs_07G"
      }
    },
    {
      "cell_type": "code",
      "execution_count": null,
      "source": [
        "#predicting the \n",
        "print(\"Prediction for test set: {}\".format(pred))\n"
      ],
      "outputs": [],
      "metadata": {
        "id": "_vQSPXNPAA4s"
      }
    },
    {
      "cell_type": "code",
      "execution_count": null,
      "source": [
        "#Actual value and the predicted value\n",
        "mlr_diff = pd.DataFrame({'Actual value': y_test, 'Predicted value': y_pred})\n",
        "mlr_diff.head()"
      ],
      "outputs": [],
      "metadata": {
        "id": "v7ZH6RjBAh2p"
      }
    },
    {
      "cell_type": "code",
      "execution_count": null,
      "source": [
        "import statsmodels.regression.linear_model as sm\n",
        "# add a column of ones as integer data type\n",
        "x = np.append(arr = np.ones((50, 1)).astype(int), \n",
        "              values = x, axis = 1)\n",
        "# choose a Significance level usually 0.05, if p>0.05\n",
        "#  for the highest values parameter, remove that value\n",
        "x_opt = x[:, [0, 1, 2, 3, 4, 5]]\n",
        "ols = sm.OLS(endog = y, exog = x_opt).fit()\n",
        "ols.summary()"
      ],
      "outputs": [],
      "metadata": {
        "id": "gdtB1Mbi9Y-g"
      }
    },
    {
      "cell_type": "code",
      "execution_count": null,
      "source": [
        "# remove the 4th column as it has the highest value\n",
        "x_opt = x[:, [0, 1, 2, 3, 5]]\n",
        "ols = sm.OLS(endog = y, exog = x_opt).fit()\n",
        "ols.summary()\n",
        "  \n",
        "# remove the 5th column as it has the highest value\n",
        "x_opt = x[:, [0, 1, 2, 3]]\n",
        "ols = sm.OLS(endog = y, exog = x_opt).fit()\n",
        "ols.summary()\n",
        "  \n",
        "# remove the 3rd column as it has the highest value\n",
        "x_opt = x[:, [0, 1, 2]]\n",
        "ols = sm.OLS(endog = y, exog = x_opt).fit()\n",
        "ols.summary()\n",
        "  \n",
        "# remove the 2nd column as it has the highest value\n",
        "x_opt = x[:, [0, 1]]\n",
        "ols = sm.OLS(endog = y, exog = x_opt).fit()\n",
        "ols.summary()"
      ],
      "outputs": [],
      "metadata": {
        "id": "dfUp9_-79ZCI"
      }
    },
    {
      "cell_type": "markdown",
      "source": [
        "Getting the intercept and Coefficient"
      ],
      "metadata": {
        "id": "RAJn8SyT91EO"
      }
    },
    {
      "cell_type": "code",
      "execution_count": null,
      "source": [
        "print(\"Intercept: \", lm.intercept_)\n",
        "print(\"Coefficients:\")\n",
        "list(zip(x, lm.coef_))"
      ],
      "outputs": [],
      "metadata": {
        "id": "gnQpJSJe9ZMl"
      }
    },
    {
      "cell_type": "markdown",
      "source": [
        "Model Evaluation"
      ],
      "metadata": {
        "id": "cgG-CwCwBany"
      }
    },
    {
      "cell_type": "code",
      "execution_count": null,
      "source": [
        "#Model Evaluation\n",
        "from sklearn import metrics\n",
        "meanAbErr = metrics.mean_absolute_error(y_test, y_pred_mlr)\n",
        "meanSqErr = metrics.mean_squared_error(y_test, y_pred_mlr)\n",
        "rootMeanSqErr = np.sqrt(metrics.mean_squared_error(y_test, y_pred_mlr))\n",
        "print('R squared: {:.2f}'.format(mlr.score(x,y)*100))\n",
        "print('Mean Absolute Error:', meanAbErr)\n",
        "print('Mean Square Error:', meanSqErr)\n",
        "print('Root Mean Square Error:', rootMeanSqErr)"
      ],
      "outputs": [],
      "metadata": {
        "id": "ybWR_x56_zHl"
      }
    }
  ]
}